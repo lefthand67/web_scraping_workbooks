{
 "cells": [
  {
   "cell_type": "markdown",
   "id": "a77b7ed9-d7ae-435b-9987-bbfe36085250",
   "metadata": {},
   "source": [
    "# [WEB Парсинг на Python](https://stepik.org/course/104774/promo)\n",
    "\n",
    "Автор: Павел Хошев"
   ]
  },
  {
   "cell_type": "markdown",
   "id": "10ef5d5e-3d88-46f0-969b-287335286289",
   "metadata": {},
   "source": [
    "# Введение"
   ]
  },
  {
   "cell_type": "markdown",
   "id": "2f2573b7-af31-4335-9e11-323135f6c99d",
   "metadata": {},
   "source": [
    "Практически любой парсер имеет одинаковый алгоритм:\n",
    "- запрос данных с целевого сайта или сайтов\n",
    "- поиск извлечение обработка данных\n",
    "- сохранение данных в удобном виде\n",
    "и др."
   ]
  },
  {
   "cell_type": "markdown",
   "id": "5a86c057-0b57-4f28-bb5c-3282860d3215",
   "metadata": {},
   "source": [
    "# 2. DOM дерево HTML"
   ]
  },
  {
   "cell_type": "markdown",
   "id": "fd5b2996-50e1-47cb-91bd-7282d7bb4fd9",
   "metadata": {},
   "source": [
    "## 2.1 Введение в DOM"
   ]
  },
  {
   "cell_type": "markdown",
   "id": "f3926daa-5696-40c4-804a-276999489bd6",
   "metadata": {},
   "source": [
    "The **Document Object Model** (DOM) is a programming interface for web documents. It defines the logical structure of documents and the way a document is accessed and manipulated. In other words, the DOM provides a structured representation of the document as a tree, with each node representing a part of the document, such as elements, attributes, and text. This allows programmers to use a set of methods to access and modify the document's content, structure, and style. The DOM is a key component of web development, as it allows dynamic changes to be made to the web page without requiring a full reload."
   ]
  },
  {
   "cell_type": "markdown",
   "id": "9f7f1164-e85a-48b4-8f6d-ac48a5e21289",
   "metadata": {},
   "source": []
  },
  {
   "cell_type": "markdown",
   "id": "fb23888f-73b5-4ad9-b2c4-c3451ab4bbf3",
   "metadata": {},
   "source": []
  },
  {
   "cell_type": "markdown",
   "id": "85b880a1-d2c1-45e4-9b1d-fef834ca9b04",
   "metadata": {},
   "source": []
  },
  {
   "cell_type": "markdown",
   "id": "dec2815c-c6db-4017-8493-7b552eebe85c",
   "metadata": {},
   "source": []
  },
  {
   "cell_type": "markdown",
   "id": "7acda710-2a58-41b0-89dc-f8711f420482",
   "metadata": {},
   "source": []
  },
  {
   "cell_type": "code",
   "execution_count": null,
   "id": "919db3e1-b856-4fcd-8bc9-c31f549409f3",
   "metadata": {},
   "outputs": [],
   "source": []
  },
  {
   "cell_type": "code",
   "execution_count": null,
   "id": "ee95ef0b-f82f-41f0-af27-19de80105bec",
   "metadata": {},
   "outputs": [],
   "source": []
  },
  {
   "cell_type": "code",
   "execution_count": null,
   "id": "9f531d01-03ba-41dc-a8c9-3b1bde3d2de8",
   "metadata": {},
   "outputs": [],
   "source": []
  },
  {
   "cell_type": "code",
   "execution_count": null,
   "id": "07198b85-d827-438b-be6b-1776b5803494",
   "metadata": {},
   "outputs": [],
   "source": []
  },
  {
   "cell_type": "code",
   "execution_count": null,
   "id": "41a2cdc2-e050-4abe-8740-c281a77f3e24",
   "metadata": {},
   "outputs": [],
   "source": []
  },
  {
   "cell_type": "code",
   "execution_count": null,
   "id": "66aec12f-d97a-47fa-b249-99635466cf42",
   "metadata": {},
   "outputs": [],
   "source": []
  },
  {
   "cell_type": "code",
   "execution_count": null,
   "id": "ca439644-ffb1-4024-9508-618f447c6756",
   "metadata": {},
   "outputs": [],
   "source": []
  },
  {
   "cell_type": "code",
   "execution_count": null,
   "id": "d534b223-733c-4b6f-abb5-a313921cdec0",
   "metadata": {},
   "outputs": [],
   "source": []
  },
  {
   "cell_type": "code",
   "execution_count": null,
   "id": "2e62b538-3333-4be3-82a1-54b07802c3a9",
   "metadata": {},
   "outputs": [],
   "source": []
  },
  {
   "cell_type": "code",
   "execution_count": null,
   "id": "1b563914-9a6d-4ee5-9b48-a60764cbfedb",
   "metadata": {},
   "outputs": [],
   "source": []
  },
  {
   "cell_type": "code",
   "execution_count": null,
   "id": "a2c222ce-8731-420d-879b-4f39ef693d5c",
   "metadata": {},
   "outputs": [],
   "source": []
  },
  {
   "cell_type": "code",
   "execution_count": null,
   "id": "287407ab-35b9-4074-8385-f8ed6c6c7eca",
   "metadata": {},
   "outputs": [],
   "source": []
  },
  {
   "cell_type": "code",
   "execution_count": null,
   "id": "f21820a9-05a0-43b1-b12e-3f84971bafc0",
   "metadata": {},
   "outputs": [],
   "source": []
  },
  {
   "cell_type": "code",
   "execution_count": null,
   "id": "0e2d6ead-9f1d-4aa1-86d2-610031bd9403",
   "metadata": {},
   "outputs": [],
   "source": []
  },
  {
   "cell_type": "code",
   "execution_count": null,
   "id": "94423cfb-cf83-4e29-b080-625b4b34b670",
   "metadata": {},
   "outputs": [],
   "source": []
  },
  {
   "cell_type": "code",
   "execution_count": null,
   "id": "a85b725b-1ff8-4b59-8173-4a51267a9a49",
   "metadata": {},
   "outputs": [],
   "source": []
  },
  {
   "cell_type": "code",
   "execution_count": null,
   "id": "8b43a181-c97a-4992-9e36-c0eacc428ef5",
   "metadata": {},
   "outputs": [],
   "source": []
  },
  {
   "cell_type": "code",
   "execution_count": null,
   "id": "6d9ac104-45df-4ae1-8aab-a30333fcb2ea",
   "metadata": {},
   "outputs": [],
   "source": []
  },
  {
   "cell_type": "code",
   "execution_count": null,
   "id": "a459fa91-c182-4106-b94a-5f993cf52a80",
   "metadata": {},
   "outputs": [],
   "source": []
  },
  {
   "cell_type": "code",
   "execution_count": null,
   "id": "3d423cb0-d8a1-43c4-a1f7-751d1be29619",
   "metadata": {},
   "outputs": [],
   "source": []
  },
  {
   "cell_type": "code",
   "execution_count": null,
   "id": "a5d4deea-4453-4f0a-9b5d-057dd1937155",
   "metadata": {},
   "outputs": [],
   "source": []
  },
  {
   "cell_type": "code",
   "execution_count": null,
   "id": "503e1817-8224-4613-abfb-df5d4256bdcb",
   "metadata": {},
   "outputs": [],
   "source": []
  },
  {
   "cell_type": "code",
   "execution_count": null,
   "id": "86b50bde-0b23-4ac2-be62-ea14c200f717",
   "metadata": {},
   "outputs": [],
   "source": []
  },
  {
   "cell_type": "code",
   "execution_count": null,
   "id": "5f3a2e23-9930-492a-bc6b-12c02e4b8b45",
   "metadata": {},
   "outputs": [],
   "source": []
  },
  {
   "cell_type": "code",
   "execution_count": null,
   "id": "57d5ca3c-6d72-4532-97c3-c95a870ac220",
   "metadata": {},
   "outputs": [],
   "source": []
  },
  {
   "cell_type": "code",
   "execution_count": null,
   "id": "6b229b21-08f0-4be9-9e55-e7d4017b30cb",
   "metadata": {},
   "outputs": [],
   "source": []
  },
  {
   "cell_type": "code",
   "execution_count": null,
   "id": "6133b2d9-d931-4ce0-9762-15708e2a9ed2",
   "metadata": {},
   "outputs": [],
   "source": []
  },
  {
   "cell_type": "code",
   "execution_count": null,
   "id": "3cb57b14-27ea-4781-8468-db8ca73ba6c6",
   "metadata": {},
   "outputs": [],
   "source": []
  },
  {
   "cell_type": "code",
   "execution_count": null,
   "id": "2c1e605f-bfa8-46ca-8340-2273f3416364",
   "metadata": {},
   "outputs": [],
   "source": []
  },
  {
   "cell_type": "code",
   "execution_count": null,
   "id": "fb72dbe6-0243-440c-b934-c487d9bdd9b8",
   "metadata": {},
   "outputs": [],
   "source": []
  },
  {
   "cell_type": "code",
   "execution_count": null,
   "id": "183d4ddc-f3ac-4b59-92cb-da2b3070d713",
   "metadata": {},
   "outputs": [],
   "source": []
  },
  {
   "cell_type": "code",
   "execution_count": null,
   "id": "0f0575ee-54ba-49f1-8cf5-bf8e67dae495",
   "metadata": {},
   "outputs": [],
   "source": []
  },
  {
   "cell_type": "code",
   "execution_count": null,
   "id": "4abab649-d62e-4ba8-b61d-87f874fbe8dd",
   "metadata": {},
   "outputs": [],
   "source": []
  },
  {
   "cell_type": "code",
   "execution_count": null,
   "id": "02ef489a-7683-4732-b6aa-b73a7f336679",
   "metadata": {},
   "outputs": [],
   "source": []
  }
 ],
 "metadata": {
  "kernelspec": {
   "display_name": "venv3.12",
   "language": "python",
   "name": "venv3.12"
  },
  "language_info": {
   "codemirror_mode": {
    "name": "ipython",
    "version": 3
   },
   "file_extension": ".py",
   "mimetype": "text/x-python",
   "name": "python",
   "nbconvert_exporter": "python",
   "pygments_lexer": "ipython3",
   "version": "3.12.1"
  }
 },
 "nbformat": 4,
 "nbformat_minor": 5
}
