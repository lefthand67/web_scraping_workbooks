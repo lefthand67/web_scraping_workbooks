{
 "cells": [
  {
   "cell_type": "markdown",
   "id": "91ce1299-c92c-45b1-9001-9f25c6fbd27c",
   "metadata": {},
   "source": [
    "# [XPath](https://www.w3schools.com/xml/xpath_intro.asp)"
   ]
  },
  {
   "cell_type": "markdown",
   "id": "789e5021-e020-40cb-a6f8-caf794f797fd",
   "metadata": {},
   "source": [
    "In XPath, there are [seven kinds of nodes](https://www.w3schools.com/xml/xpath_nodes.asp): \n",
    "- element, \n",
    "- attribute, \n",
    "- text, \n",
    "- namespace, \n",
    "- processing-instruction, \n",
    "- comment, and \n",
    "- root nodes.\n",
    "\n",
    "The XML Example Document:\n",
    "\n",
    "```xml\n",
    "<?xml version=\"1.0\" encoding=\"UTF-8\"?>\n",
    "\n",
    "<bookstore>\n",
    "\n",
    "<book>\n",
    "  <title lang=\"en\">Harry Potter</title>\n",
    "  <price>29.99</price>\n",
    "</book>\n",
    "\n",
    "<book>\n",
    "  <title lang=\"en\">Learning XML</title>\n",
    "  <price>39.95</price>\n",
    "</book>\n",
    "\n",
    "</bookstore>\n",
    "```"
   ]
  },
  {
   "cell_type": "markdown",
   "id": "dec1a4e6-0def-4ddf-a641-65aee9493c67",
   "metadata": {},
   "source": [
    "## Selecting Nodes"
   ]
  },
  {
   "cell_type": "markdown",
   "id": "53cb62fc-7fb2-40d8-b1c3-ba495333c5b0",
   "metadata": {},
   "source": [
    "Expression|Description\n",
    "-|-\n",
    "`nodename`|Selects all nodes with the name \"nodename\"\n",
    "`/`|Selects from the root node; if the path starts with a slash ( `/` ) always represents an absolute path to an element\n",
    "`//`|Selects nodes in the document from the current node that match the selection no matter where they are\n",
    "`.`|Selects the current node\n",
    "`..`|Selects the parent of the current node\n",
    "`@`|Selects attributes\n",
    "\n",
    "Examples:\n",
    "\n",
    "Path|Expression\tResult\n",
    "-|-\n",
    "`bookstore`|Selects all nodes with the name \"bookstore\"\n",
    "`/bookstore`|Selects the root element bookstore. Note: If the path starts with a slash ( `/` ) it always represents an absolute path to an element!\n",
    "`bookstore/book`|Selects all book elements that are children of bookstore\n",
    "`//book`|Selects all book elements no matter where they are in the document\n",
    "`bookstore//book`|Selects all book elements that are descendant of the bookstore element, no matter where they are under the bookstore element\n",
    "`//@lang`|Selects all attributes that are named lang"
   ]
  },
  {
   "cell_type": "markdown",
   "id": "1c3157a0-96ae-4319-89ea-9b97631e37f1",
   "metadata": {},
   "source": [
    "## Predicates"
   ]
  },
  {
   "cell_type": "markdown",
   "id": "4d13d016-5b0a-4cb0-b02d-fb3180e7185f",
   "metadata": {},
   "source": [
    "Path Expression|Result\n",
    "-|-\n",
    "`/bookstore/book[1]`|Selects the first book element that is the child of the bookstore element. Note: In IE 5,6,7,8,9 first node is `[0]`, but according to W3C, it is `[1]`. To solve this problem in IE, set the `SelectionLanguage` to XPath: In JavaScript: `xml.setProperty(\"SelectionLanguage\",\"XPath\")`;\n",
    "`/bookstore/book[last()]`|Selects the last book element that is the child of the bookstore element\n",
    "`/bookstore/book[last()-1]`|Selects the last but one book element that is the child of the bookstore element\n",
    "`/bookstore/book[position()<3]`|Selects the first two book elements that are children of the bookstore element\n",
    "`//title[@lang]`|Selects all the title elements that have an attribute named lang\n",
    "`//title[@lang='en']`|Selects all the title elements that have a \"lang\" attribute with a value of \"en\"\n",
    "`/bookstore/book[price>35.00]`|Selects all the book elements of the bookstore element that have a price element with a value greater than 35.00\n",
    "`/bookstore/book[price>35.00]/title`|Selects all the title elements of the book elements of the bookstore element that have a price element with a value greater than 35.00"
   ]
  },
  {
   "cell_type": "markdown",
   "id": "972ee62d-5c6f-4a53-bc16-5293e078c557",
   "metadata": {},
   "source": [
    "## Selecting Unknown Nodes"
   ]
  },
  {
   "cell_type": "markdown",
   "id": "ae505f1d-2c95-475c-9f12-ed42a9dd9b74",
   "metadata": {},
   "source": [
    "Wildcard|Description\n",
    "-|-\n",
    "`*`|Matches any element node\n",
    "`@*`|Matches any attribute node\n",
    "`node()`|Matches any node of any kind\n",
    "**Examples**|\n",
    "`/bookstore/*`|Selects all the child element nodes of the bookstore element\n",
    "`//*`|Selects all elements in the document\n",
    "`//title[@*]`|Selects all title elements which have at least one attribute of any kind"
   ]
  },
  {
   "cell_type": "markdown",
   "id": "28670efd-538c-4955-95b4-0a338f9c791e",
   "metadata": {},
   "source": [
    "## Selecting Several Paths"
   ]
  },
  {
   "cell_type": "markdown",
   "id": "f3b2e88b-d8fc-4012-801b-45377b9db32a",
   "metadata": {},
   "source": [
    "Path|Expression\tResult\n",
    "-|-\n",
    "`//book/title \\| //book/price`|Selects all the `title` AND `price` elements of all `book` elements\n",
    "`//title \\| //price`|Selects all the `title` AND `price` elements in the document\n",
    "`/bookstore/book/title \\| //price`|Selects all the `title` elements of the `book` element of the `bookstore` element AND all the `price` elements in the document"
   ]
  },
  {
   "cell_type": "markdown",
   "id": "e120c335-3057-4569-a891-dcc914771c3c",
   "metadata": {},
   "source": [
    "## XPath Axes"
   ]
  },
  {
   "cell_type": "markdown",
   "id": "f9fbb6a1-ee4f-4a59-8297-d2f63aa1562d",
   "metadata": {},
   "source": [
    "An **axis** represents a relationship to the context (current) node, and is used to locate nodes relative to that node on the tree.\n",
    "\n",
    "AxisName|Result\n",
    "-|-\n",
    "ancestor|Selects all ancestors (parent, grandparent, etc.) of the current node\n",
    "ancestor-or-self|Selects all ancestors (parent, grandparent, etc.) of the current node and the current node itself\n",
    "attribute|Selects all attributes of the current node\n",
    "child|Selects all children of the current node\n",
    "descendant|Selects all descendants (children, grandchildren, etc.) of the current node\n",
    "descendant-or-self|Selects all descendants (children, grandchildren, etc.) of the current node and the current node itself\n",
    "following|Selects everything in the document after the closing tag of the current node\n",
    "following-sibling|Selects all siblings after the current node\n",
    "namespace|Selects all namespace nodes of the current node\n",
    "parent|Selects the parent of the current node\n",
    "preceding|Selects all nodes that appear before the current node in the document, except ancestors, attribute nodes and namespace nodes\n",
    "preceding-sibling|Selects all siblings before the current node\n",
    "self|Selects the current node"
   ]
  },
  {
   "cell_type": "markdown",
   "id": "397da816-815f-428d-8f96-887833bb5608",
   "metadata": {},
   "source": [
    "## Location Path Expression"
   ]
  },
  {
   "cell_type": "markdown",
   "id": "f2984cce-76e7-4748-be00-e922d32d69e6",
   "metadata": {},
   "source": [
    "In both cases the **location path** consists of one or more steps, each separated by a slash:\n",
    "\n",
    "- An absolute location path:\n",
    "    - `/step/step/...`\n",
    "- A relative location path:\n",
    "    - `step/step/...`\n",
    "\n",
    "Each step is evaluated against the nodes in the current node-set.\n",
    "\n",
    "A **step** `axisname::nodetest[predicate]` consists of:\n",
    "- an axis (defines the tree-relationship between the selected nodes and the current node)\n",
    "- a node-test (identifies a node within an axis)\n",
    "- zero or more predicates (to further refine the selected node-set)\n",
    "\n",
    "Examples\n",
    "\n",
    "Example|Result\n",
    "-|-\n",
    "`child::book`|Selects all book nodes that are children of the current node\n",
    "`attribute::lang`|Selects the lang attribute of the current node\n",
    "`child::*`|Selects all element children of the current node\n",
    "`attribute::*`|Selects all attributes of the current node\n",
    "`child::text()`|Selects all text node children of the current node\n",
    "`child::node()`|Selects all children of the current node\n",
    "`descendant::book`|Selects all book descendants of the current node\n",
    "`ancestor::book`|Selects all book ancestors of the current node\n",
    "`ancestor-or-self::book`|Selects all book ancestors of the current node - and the current as well if it is a book node\n",
    "`child::*/child::price`|Selects all price grandchildren of the current node"
   ]
  },
  {
   "cell_type": "markdown",
   "id": "a70919d0-2fb2-4396-a1cd-691093e2f72a",
   "metadata": {},
   "source": [
    "## XPath Operators"
   ]
  },
  {
   "cell_type": "markdown",
   "id": "f8b29eca-ab75-48c3-96c7-1d7db2ba48f5",
   "metadata": {},
   "source": [
    "An XPath expression returns either \n",
    "- a node-set, \n",
    "- a string, \n",
    "- a Boolean, or \n",
    "- a number.\n",
    "\n",
    "Operator|Description|Example\n",
    "-|-|-\n",
    "`\\|`|Computes two node-sets|`//book \\| //cd`\n",
    "`+`|Addition|`6 + 4`\n",
    "`-`|Subtraction|`6 - 4`\n",
    "`*`|Multiplication|`6 * 4`\n",
    "`div`|Division|`8 div 4`\n",
    "`=`|Equal|`price=9.80`\n",
    "`!=`|Not equal|`price!=9.80`\n",
    "`<`|Less than|`price<9.80`\n",
    "`<=`|Less than or equal to|`price<=9.80`\n",
    "`>`|Greater than|`price>9.80`\n",
    "`>=`|Greater than or equal to|`price>=9.80`\n",
    "`or`|or|`price=9.80 or price=9.70`\n",
    "`and`|and|`price>9.00 and price<9.90`\n",
    "`mod`|Modulus (division remainder)|`5 mod 2`"
   ]
  }
 ],
 "metadata": {
  "kernelspec": {
   "display_name": "Bash",
   "language": "bash",
   "name": "bash"
  },
  "language_info": {
   "codemirror_mode": "shell",
   "file_extension": ".sh",
   "mimetype": "text/x-sh",
   "name": "bash"
  }
 },
 "nbformat": 4,
 "nbformat_minor": 5
}
