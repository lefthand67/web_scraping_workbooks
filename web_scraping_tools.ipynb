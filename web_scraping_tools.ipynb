{
 "cells": [
  {
   "cell_type": "markdown",
   "id": "acbe7b75-37c4-40df-9da2-47ef7db28ce4",
   "metadata": {},
   "source": [
    "# Web scraping tools comparisons"
   ]
  },
  {
   "cell_type": "markdown",
   "id": "a925eda8-687f-465f-89ed-44b540b7902d",
   "metadata": {},
   "source": [
    "# Tools comparisons"
   ]
  },
  {
   "cell_type": "markdown",
   "id": "25be90d0-bd35-4c9c-9661-b406086a6fa5",
   "metadata": {},
   "source": [
    "## Selenium and Scrapy"
   ]
  },
  {
   "cell_type": "markdown",
   "id": "9cef6dee-801f-41da-9157-ae8bd51d0829",
   "metadata": {},
   "source": [
    "Selenium and Scrapy are both popular tools for web scraping but they have some key differences in terms of ease of use, functionality, and performance.\n",
    "\n",
    "- Selenium:\n",
    "    - Selenium is primarily used for web testing and automation, but it can also be used for web scraping.\n",
    "    - Selenium is a browser automation tool that allows you to control a web browser programmatically, allowing you to interact with websites as a real user would.\n",
    "    - Selenium is great for scraping websites that heavily rely on JavaScript, as it can render JavaScript content and execute complex interactions on the page.\n",
    "    - However, because Selenium relies on controlling a browser, it can be slower and more resource-intensive compared to other scraping tools.\n",
    "    - Selenium is a good option for websites that require a lot of interaction or have complex layouts that are difficult to scrape with traditional scraping tools.\n",
    "    - \n",
    "- Scrapy:\n",
    "    - Scrapy is a powerful and fast web scraping framework written in Python.\n",
    "    - Scrapy is specifically designed for web scraping and offers a wide range of tools and features for scraping and parsing websites.\n",
    "    - Scrapy allows you to easily crawl websites, extract data, and store it in various formats such as JSON, XML, or CSV.\n",
    "    - Scrapy is more lightweight and efficient compared to Selenium, as it does not require a browser to run.\n",
    "    - Scrapy is great for scraping large volumes of data from multiple websites and for more advanced scraping tasks.\n",
    "    - Scrapy provides a robust system for handling requests, managing cookies, and following links automatically.\n",
    "\n",
    "In conclusion, Selenium is a better choice for scraping websites with heavy JavaScript content or complex interactions, while Scrapy is a more efficient and versatile tool for general web scraping tasks. Ultimately, the choice between Selenium and Scrapy will depend on the specific requirements of the scraping project and the technical skills of the user."
   ]
  },
  {
   "cell_type": "markdown",
   "id": "fe406c1b-b7ba-4a09-9991-b18726127b69",
   "metadata": {},
   "source": [
    "## BeautifulSoup and Scrapy"
   ]
  },
  {
   "cell_type": "markdown",
   "id": "5c6b4c20-b9e6-49e8-a956-da0fd0319f1f",
   "metadata": {},
   "source": [
    "Beautiful Soup (bs4) and Scrapy are both popular Python libraries used for web scraping, but they have some key differences:\n",
    "\n",
    "- **Usage:** Beautiful Soup is primarily used for parsing HTML and XML documents, making it a good choice for extracting specific information from web pages. Scrapy, on the other hand, is a full-fledged web scraping framework that allows for more advanced web scraping tasks such as crawling multiple pages, handling asynchronous requests, and storing data in databases.\n",
    "\n",
    "- **Speed:** Scrapy is generally faster than Beautiful Soup due to its asynchronous scraping capabilities and built-in web crawling features. This makes it a better choice for scraping large amounts of data or scraping websites with complex structures.\n",
    "\n",
    "- **Scalability:** Scrapy is more scalable than Beautiful Soup, as it is built to handle large-scale web scraping tasks. Its built-in scheduling and parallel processing features make it well-suited for scraping websites with a lot of pages or for scraping data from multiple websites simultaneously.\n",
    "\n",
    "- **Learning curve:** Beautiful Soup is easier to learn and understand, especially for beginners, as it provides a simple and intuitive way to navigate and extract data from HTML documents. Scrapy, on the other hand, has a steeper learning curve due to its more advanced features and concepts, such as spiders, pipelines, and middleware.\n",
    "\n",
    "Scrapy is a web scraping framework in Python that provides tools for extracting data from websites. It has built-in functionality for parsing and extracting data from HTML documents, so in most cases, you may not need to use BeautifulSoup (bs4) for parsing HTML.\n",
    "\n",
    "However, if you encounter complex HTML structures or need more advanced parsing capabilities, you may find BeautifulSoup useful in conjunction with Scrapy. BeautifulSoup is a popular Python library for parsing HTML and XML documents, and it can be used in combination with Scrapy to handle more complex parsing tasks or to extract data from non-standard HTML structures.\n",
    "\n",
    "Ultimately, whether you need to use BeautifulSoup with Scrapy will depend on the specific requirements of your web scraping project.\n",
    "\n",
    "In conclusion, Beautiful Soup is a good choice for simple web scraping tasks or for projects where you only need to extract specific information from a few web pages. Scrapy, on the other hand, is more suitable for larger and more complex web scraping tasks that require crawling multiple pages, handling asynchronous requests, and storing data in databases. Ultimately, the choice between Beautiful Soup and Scrapy will depend on the specific requirements of your web scraping project and your level of experience with web scraping."
   ]
  },
  {
   "cell_type": "markdown",
   "id": "56a42ad0-43be-4285-a5f1-3db359d79feb",
   "metadata": {},
   "source": [
    "## Requests and Scrapy"
   ]
  },
  {
   "cell_type": "markdown",
   "id": "9236b126-5a6f-4025-ac49-4aa8e7e198be",
   "metadata": {},
   "source": [
    "Scrapy is a higher-level web scraping framework in Python that provides its own networking and request handling capabilities.\n",
    "\n",
    "Scrapy handles the sending of HTTP requests, managing cookies, following redirects, and other networking tasks internally, allowing you to focus on writing the scraping logic and data extraction rules.\n",
    "\n",
    "While the Requests library is often used for sending HTTP requests and handling responses in Python, it is typically not necessary when using Scrapy as it provides its own tools for making requests and handling responses efficiently.\n",
    "\n",
    "In summary, when using Scrapy for web scraping, you can rely on its built-in capabilities for handling HTTP requests and responses without the need for the Requests library."
   ]
  },
  {
   "cell_type": "markdown",
   "id": "02fcca3f-2188-4c2e-ac56-d64b2e2ce56c",
   "metadata": {},
   "source": [
    "# Tools usage"
   ]
  },
  {
   "cell_type": "markdown",
   "id": "9ff5fe6b-d6da-493d-8cf3-b8bbf58f8e0a",
   "metadata": {},
   "source": [
    "## Stop and run crawler"
   ]
  },
  {
   "cell_type": "markdown",
   "id": "e6205349-2a46-4c6d-84e4-c85c07f783c4",
   "metadata": {},
   "source": [
    "here's an example of a simple Scrapy crawler that can be stopped and resumed from the point it was stopped at. This example utilizes Scrapy's built-in support for resuming crawls by saving and loading the state of the crawl.\n",
    "\n",
    "```python\n",
    "import scrapy\n",
    "from scrapy.crawler import CrawlerProcess\n",
    "from scrapy.utils.project import get_project_settings\n",
    "\n",
    "\n",
    "class MySpider(scrapy.Spider):\n",
    "    name = 'myspider'\n",
    "    start_urls = ['http://example.com']\n",
    "    \n",
    "    # You can define any additional logic here\n",
    "\n",
    "    def parse(self, response):\n",
    "        # Your parsing logic here\n",
    "        # For demonstration purposes, we'll just print the URL\n",
    "        print(response.url)\n",
    "\n",
    "if __name__ == \"__main__\":\n",
    "    # You can adjust these settings according to your needs\n",
    "    settings = get_project_settings()\n",
    "    settings.set('JOBDIR', 'crawls/mycrawler')\n",
    "\n",
    "    process = CrawlerProcess(settings)\n",
    "    process.crawl(MySpider)\n",
    "    process.start()\n",
    "```\n",
    "\n",
    "In this example:\n",
    "\n",
    "`MySpider` is a basic Scrapy spider that starts from `http://example.com` and prints the URLs it visits in the parse method.\n",
    "\n",
    "We set the `JOBDIR` setting to `crawls/mycrawler`. This tells Scrapy to store information about the crawl (such as visited URLs and states) in this directory.\n",
    "\n",
    "The crawler process is started with `CrawlerProcess` using the specified settings and spider.\n",
    "\n",
    "Now, when you run this script, Scrapy will save its state in the `crawls/mycrawler` directory. If you stop the script and run it again later, Scrapy will resume the crawl from where it left off, rather than starting from scratch. This allows you to stop and resume the crawl as needed."
   ]
  },
  {
   "cell_type": "markdown",
   "id": "b08d1b17-423d-492c-9f48-03d949f59b2b",
   "metadata": {},
   "source": [
    "## Use browser automation in scrapy"
   ]
  },
  {
   "cell_type": "markdown",
   "id": "98db5bfe-f402-4f40-a56b-9ec266d25a75",
   "metadata": {},
   "source": [
    "You can use Selenium in conjunction with Scrapy to scrape web pages that require JavaScript rendering or interaction. While Scrapy is a powerful web scraping framework primarily focused on making HTTP requests and parsing HTML/XML responses, it does not provide built-in support for JavaScript rendering or browser automation, which Selenium excels at.\n",
    "\n",
    "Here's how you can combine Selenium with Scrapy:\n",
    "\n",
    "Use Selenium to Navigate and Interact with Pages: Write Selenium scripts to navigate to the pages you want to scrape, interact with elements (such as clicking buttons or filling forms), and retrieve the dynamically loaded content.\n",
    "\n",
    "Extract Content with Scrapy: Once you've loaded the desired content with Selenium, you can extract the relevant data using Scrapy's parsing capabilities. You can either parse the HTML directly with Scrapy's built-in selectors or extract data from Selenium's WebDriver.\n",
    "\n",
    "Combine Both Approaches: You can either run Selenium scripts within Scrapy's spider callbacks or integrate Selenium with Scrapy's middleware to seamlessly use both frameworks together.\n",
    "\n",
    "Here's a basic example of how you might integrate Selenium with Scrapy:\n",
    "\n",
    "```python\n",
    "import scrapy\n",
    "from scrapy_selenium import SeleniumRequest\n",
    "from selenium.webdriver.common.by import By\n",
    "\n",
    "\n",
    "class MySpider(scrapy.Spider):\n",
    "    name = 'myspider'\n",
    "    start_urls = ['http://example.com']\n",
    "\n",
    "    def start_requests(self):\n",
    "        for url in self.start_urls:\n",
    "            yield SeleniumRequest(url=url, callback=self.parse)\n",
    "\n",
    "    def parse(self, response):\n",
    "        # Extract data using Scrapy's selectors\n",
    "        title = response.xpath('//h1/text()').get()\n",
    "\n",
    "        # Extract data using Selenium\n",
    "        driver = response.request.meta['driver']\n",
    "        selenium_title = driver.find_element(By.XPATH, '//h1').text\n",
    "\n",
    "        yield {\n",
    "            'scrapy_title': title,\n",
    "            'selenium_title': selenium_title\n",
    "        }\n",
    "```\n",
    "\n",
    "In this example, we use the `SeleniumRequest` class provided by the `scrapy-selenium` package to make requests using Selenium. We then extract data both using Scrapy's selectors (`response.xpath()`) and Selenium's WebDriver (`driver.find_element()`).\n",
    "\n",
    "Remember to install `scrapy-selenium` and configure Selenium in your project before using this approach. Additionally, be mindful of performance considerations when using Selenium, as it can be slower than pure Scrapy scraping due to browser automation overhead."
   ]
  },
  {
   "cell_type": "markdown",
   "id": "a75f3dbd-b6db-4b2f-bb64-274d1bb14dad",
   "metadata": {},
   "source": []
  },
  {
   "cell_type": "markdown",
   "id": "c81b1bfb-76e7-4bb1-82bc-27b4985eec9d",
   "metadata": {},
   "source": []
  },
  {
   "cell_type": "markdown",
   "id": "934cb4e1-10db-44ce-9932-f1cf134704b3",
   "metadata": {},
   "source": []
  },
  {
   "cell_type": "markdown",
   "id": "61ef1e75-6f10-4979-ac6b-7092c047c524",
   "metadata": {},
   "source": []
  },
  {
   "cell_type": "markdown",
   "id": "620be732-25bb-4695-95fb-087c0d302462",
   "metadata": {},
   "source": []
  },
  {
   "cell_type": "markdown",
   "id": "ad055020-98db-42d1-b91a-52bec0ae4d12",
   "metadata": {},
   "source": []
  },
  {
   "cell_type": "markdown",
   "id": "9e6d278e-cf5e-4c73-a381-1f8fcef3b1c9",
   "metadata": {},
   "source": []
  },
  {
   "cell_type": "markdown",
   "id": "e34085e1-ec53-4648-94c5-c473545212bf",
   "metadata": {},
   "source": []
  },
  {
   "cell_type": "markdown",
   "id": "f933b4dd-7e02-456d-8a89-f9e8e8da3b0a",
   "metadata": {},
   "source": []
  },
  {
   "cell_type": "markdown",
   "id": "2c77dce4-eda6-4631-bfa8-1b0ca34e8a3a",
   "metadata": {},
   "source": []
  },
  {
   "cell_type": "markdown",
   "id": "c945181c-bcbc-4bb7-bb31-5e0177da4413",
   "metadata": {},
   "source": []
  },
  {
   "cell_type": "markdown",
   "id": "c9f74d6a-5e86-4fef-a31b-6a2fa5caf12f",
   "metadata": {},
   "source": []
  },
  {
   "cell_type": "markdown",
   "id": "865ea93e-38e1-44fe-825e-0ba2b51dbe3a",
   "metadata": {},
   "source": []
  },
  {
   "cell_type": "markdown",
   "id": "1b8a6a43-2414-4470-8d7b-c51d45311582",
   "metadata": {},
   "source": []
  },
  {
   "cell_type": "markdown",
   "id": "6f38cae5-f3cd-4060-aff1-45a328962c91",
   "metadata": {},
   "source": []
  },
  {
   "cell_type": "markdown",
   "id": "b772c37c-89af-4caf-8d84-e17a9c35a13b",
   "metadata": {},
   "source": []
  },
  {
   "cell_type": "markdown",
   "id": "40b79ddb-a129-4f2f-87e8-9b57c1ca4795",
   "metadata": {},
   "source": []
  },
  {
   "cell_type": "markdown",
   "id": "cd7b061d-e39e-447e-a631-abc487421b43",
   "metadata": {},
   "source": []
  },
  {
   "cell_type": "markdown",
   "id": "1adc33a7-83cd-49d9-99db-0fbcd13fdf08",
   "metadata": {},
   "source": []
  },
  {
   "cell_type": "markdown",
   "id": "34989d36-828f-48ca-9b44-c6ce44119b3c",
   "metadata": {},
   "source": []
  },
  {
   "cell_type": "markdown",
   "id": "8e4ce267-49c7-4580-b506-d7b5c4b0271d",
   "metadata": {},
   "source": []
  },
  {
   "cell_type": "markdown",
   "id": "c29c6b4f-47a1-45c1-ab42-8b2db7dba030",
   "metadata": {},
   "source": []
  },
  {
   "cell_type": "markdown",
   "id": "030a5b17-84f1-40cd-8ea1-52ffc116bcb5",
   "metadata": {},
   "source": []
  },
  {
   "cell_type": "markdown",
   "id": "5a6984a0-4f2e-486a-a47c-43997f08a965",
   "metadata": {},
   "source": []
  },
  {
   "cell_type": "markdown",
   "id": "09da9d44-6598-4404-b1d8-b6123ebaa2c5",
   "metadata": {},
   "source": []
  },
  {
   "cell_type": "markdown",
   "id": "15a35a35-b4ac-45ef-9fa2-597c2de982af",
   "metadata": {},
   "source": []
  },
  {
   "cell_type": "markdown",
   "id": "e479e5f3-6b8b-497e-94c3-a9fdbcf86d0e",
   "metadata": {},
   "source": []
  },
  {
   "cell_type": "markdown",
   "id": "ba2a4008-af27-40c8-9727-90c622841053",
   "metadata": {},
   "source": []
  },
  {
   "cell_type": "markdown",
   "id": "fb00e0fb-8de8-4c9e-b611-87cc1bea2ef5",
   "metadata": {},
   "source": []
  },
  {
   "cell_type": "markdown",
   "id": "6e50df1d-6085-4119-8a54-e6f4a86ab5b2",
   "metadata": {},
   "source": []
  },
  {
   "cell_type": "markdown",
   "id": "08711930-131d-4434-98cf-80978afbf310",
   "metadata": {},
   "source": []
  },
  {
   "cell_type": "markdown",
   "id": "009f64a1-e58b-40ca-aa20-f89e0b81de6d",
   "metadata": {},
   "source": []
  },
  {
   "cell_type": "markdown",
   "id": "ec1de683-39aa-4191-84aa-a69d7ce38d73",
   "metadata": {},
   "source": []
  },
  {
   "cell_type": "markdown",
   "id": "d1e614b7-af4e-4809-8672-fe72cf280ee1",
   "metadata": {},
   "source": []
  },
  {
   "cell_type": "markdown",
   "id": "cc978889-96f2-4228-8d87-a827b62f677d",
   "metadata": {},
   "source": []
  },
  {
   "cell_type": "markdown",
   "id": "707c04af-ff07-46c4-a77f-4d3d1209a4c5",
   "metadata": {},
   "source": []
  },
  {
   "cell_type": "markdown",
   "id": "3643903c-ce83-4cc0-8ff2-d81adca7b025",
   "metadata": {},
   "source": []
  },
  {
   "cell_type": "markdown",
   "id": "4c7b871e-d718-4404-a2ec-d057bbfe8d09",
   "metadata": {},
   "source": []
  },
  {
   "cell_type": "markdown",
   "id": "c2a232d4-97c2-4e4a-953f-8da8851fd5d7",
   "metadata": {},
   "source": []
  },
  {
   "cell_type": "markdown",
   "id": "5daac6f1-0a52-4444-af60-6e6ad5e76d34",
   "metadata": {},
   "source": []
  },
  {
   "cell_type": "markdown",
   "id": "166d9dc0-0102-4836-9cf1-0de8d377cdaf",
   "metadata": {},
   "source": []
  },
  {
   "cell_type": "markdown",
   "id": "74ba4a07-95c8-4d1e-816f-8bbc0d23d76a",
   "metadata": {},
   "source": []
  },
  {
   "cell_type": "markdown",
   "id": "e5f63835-8776-48d7-ba77-6f3058565c06",
   "metadata": {},
   "source": []
  },
  {
   "cell_type": "markdown",
   "id": "3d988fcc-6768-4386-b890-f62188dc7072",
   "metadata": {},
   "source": []
  },
  {
   "cell_type": "markdown",
   "id": "664be284-31e7-4438-a5e5-ea353057c3cc",
   "metadata": {},
   "source": []
  },
  {
   "cell_type": "markdown",
   "id": "00bececc-2825-460b-9122-687086275f18",
   "metadata": {},
   "source": []
  },
  {
   "cell_type": "markdown",
   "id": "d9b28d84-c1ea-4a16-bc2e-ab82f61461d4",
   "metadata": {},
   "source": []
  },
  {
   "cell_type": "markdown",
   "id": "2d9945db-89d2-4f14-a02c-4f9308d6536f",
   "metadata": {},
   "source": []
  },
  {
   "cell_type": "markdown",
   "id": "c4ec3ff0-b0fe-4bc5-b62f-8f7735903e33",
   "metadata": {},
   "source": []
  },
  {
   "cell_type": "markdown",
   "id": "c5d4e88f-7255-4eb5-9b7a-11c8c265099f",
   "metadata": {},
   "source": []
  },
  {
   "cell_type": "markdown",
   "id": "e46e0819-22b0-48eb-be82-6d1dbbddde18",
   "metadata": {},
   "source": []
  },
  {
   "cell_type": "markdown",
   "id": "26096e76-f869-4ffe-9e3f-c249fd146fbb",
   "metadata": {},
   "source": []
  },
  {
   "cell_type": "markdown",
   "id": "acfd20cb-e0de-4da4-8ec3-783ee0291f6d",
   "metadata": {},
   "source": []
  },
  {
   "cell_type": "markdown",
   "id": "2d340db4-0fca-416d-a420-c7508f1ad238",
   "metadata": {},
   "source": []
  },
  {
   "cell_type": "markdown",
   "id": "e85466ba-941f-469a-8b83-039c9a93b033",
   "metadata": {},
   "source": []
  },
  {
   "cell_type": "markdown",
   "id": "b0666fb7-e2a2-4f78-ab10-33318a8097d1",
   "metadata": {},
   "source": []
  },
  {
   "cell_type": "markdown",
   "id": "71929ecc-c0a5-426d-a19a-29ec36d6e195",
   "metadata": {},
   "source": []
  },
  {
   "cell_type": "markdown",
   "id": "27f8e52c-42c2-49bf-becc-cc80763cba9c",
   "metadata": {},
   "source": []
  },
  {
   "cell_type": "markdown",
   "id": "7cf662e9-8bb3-4e90-afc7-96403946ac24",
   "metadata": {},
   "source": []
  },
  {
   "cell_type": "markdown",
   "id": "75c8e010-8bee-4d3e-9c07-099c92bbe15d",
   "metadata": {},
   "source": []
  },
  {
   "cell_type": "markdown",
   "id": "d540f8db-6121-4f78-ad77-fbeb9b23ed59",
   "metadata": {},
   "source": []
  },
  {
   "cell_type": "markdown",
   "id": "0b358abd-3c7d-4150-97d5-3b9479d64fd6",
   "metadata": {},
   "source": []
  },
  {
   "cell_type": "markdown",
   "id": "d95e55ed-1d6d-48e2-9a50-6854e6ade114",
   "metadata": {},
   "source": []
  },
  {
   "cell_type": "markdown",
   "id": "b6334f74-791d-4e0a-b0ee-e99db7c617bc",
   "metadata": {},
   "source": []
  },
  {
   "cell_type": "markdown",
   "id": "82ef3dd5-ade4-46f7-9473-e9aa01eacb45",
   "metadata": {},
   "source": []
  },
  {
   "cell_type": "markdown",
   "id": "b1a8f9a5-1d84-4e4f-9f6a-1c136daac893",
   "metadata": {},
   "source": []
  },
  {
   "cell_type": "markdown",
   "id": "464751b7-5161-47a3-958b-951b81ca978a",
   "metadata": {},
   "source": []
  },
  {
   "cell_type": "markdown",
   "id": "0ce15405-a2c6-4d1c-a6e4-5e5b13eab37b",
   "metadata": {},
   "source": []
  },
  {
   "cell_type": "markdown",
   "id": "7fe1d836-0c70-4861-aa21-eda88b8ce31a",
   "metadata": {},
   "source": []
  },
  {
   "cell_type": "markdown",
   "id": "cf671bcc-3091-4b94-9145-631373539c82",
   "metadata": {},
   "source": []
  },
  {
   "cell_type": "markdown",
   "id": "50c21494-c3d2-45fe-9f15-3923b4608e03",
   "metadata": {},
   "source": []
  },
  {
   "cell_type": "markdown",
   "id": "555b5cef-bcf6-49d3-bac5-dead4c1c8728",
   "metadata": {},
   "source": []
  },
  {
   "cell_type": "markdown",
   "id": "e0385fb3-d44f-40f9-bca4-366f8a3405e7",
   "metadata": {},
   "source": []
  },
  {
   "cell_type": "markdown",
   "id": "2a34acac-e10a-404d-a78e-df89a2568160",
   "metadata": {},
   "source": []
  },
  {
   "cell_type": "markdown",
   "id": "238bd5f8-a0f0-4c37-ac45-4e0ec4c2289d",
   "metadata": {},
   "source": []
  },
  {
   "cell_type": "markdown",
   "id": "ab2202c9-3f22-44a8-87a1-49a6598f3833",
   "metadata": {},
   "source": []
  },
  {
   "cell_type": "markdown",
   "id": "d5cd1cf8-d062-44d8-a571-132e60aa88e7",
   "metadata": {},
   "source": []
  },
  {
   "cell_type": "markdown",
   "id": "209c6f13-5c35-4de6-8022-ca6b7d7e63fb",
   "metadata": {},
   "source": []
  },
  {
   "cell_type": "markdown",
   "id": "d3e19fc2-e705-44d6-b7ab-3b586acbc72a",
   "metadata": {},
   "source": []
  },
  {
   "cell_type": "markdown",
   "id": "388bc370-4707-4e87-a857-78d2ecf7af06",
   "metadata": {},
   "source": []
  },
  {
   "cell_type": "markdown",
   "id": "e86ee7f2-e22b-410e-b003-0378734f85d9",
   "metadata": {},
   "source": []
  },
  {
   "cell_type": "markdown",
   "id": "1e02580d-dd14-46e3-98ec-322a5c34c411",
   "metadata": {},
   "source": []
  },
  {
   "cell_type": "markdown",
   "id": "4169bdf4-9c3e-4d69-9acb-21cfcb92be5b",
   "metadata": {},
   "source": []
  },
  {
   "cell_type": "markdown",
   "id": "9ad9a343-7ffb-4d12-b7bc-0866e4eaf6d5",
   "metadata": {},
   "source": []
  },
  {
   "cell_type": "markdown",
   "id": "95795060-a878-4fc6-a6dc-5c873933ccf6",
   "metadata": {},
   "source": []
  },
  {
   "cell_type": "markdown",
   "id": "d3e69e77-ffd0-499f-af1b-f87dcea1e9e6",
   "metadata": {},
   "source": []
  },
  {
   "cell_type": "markdown",
   "id": "d5a9fbd7-ecd6-469a-8bab-83722ef0c75f",
   "metadata": {},
   "source": []
  },
  {
   "cell_type": "markdown",
   "id": "f2f788a6-cd65-43c8-ae7d-ec9711629b91",
   "metadata": {},
   "source": []
  },
  {
   "cell_type": "markdown",
   "id": "7215d74e-536e-401a-ae59-274f9fcdba99",
   "metadata": {},
   "source": []
  },
  {
   "cell_type": "markdown",
   "id": "4d94eb91-1284-4f79-a03a-2eec86a6d185",
   "metadata": {},
   "source": []
  },
  {
   "cell_type": "markdown",
   "id": "3a4e38a9-c3d1-47a3-bd05-29a64e1668d0",
   "metadata": {},
   "source": []
  },
  {
   "cell_type": "markdown",
   "id": "4e4c56b5-b027-4543-a7a0-1dd189b8e834",
   "metadata": {},
   "source": []
  },
  {
   "cell_type": "markdown",
   "id": "88081946-e464-4d91-b4a5-cb929b7733fd",
   "metadata": {},
   "source": []
  },
  {
   "cell_type": "markdown",
   "id": "a81286b4-bd52-4104-a96b-349621a3decb",
   "metadata": {},
   "source": []
  },
  {
   "cell_type": "markdown",
   "id": "e809da9e-bb4d-4f44-8cfd-344949c809f9",
   "metadata": {},
   "source": []
  },
  {
   "cell_type": "markdown",
   "id": "06764d48-a974-415f-9229-1f15c753b620",
   "metadata": {},
   "source": []
  },
  {
   "cell_type": "markdown",
   "id": "1e267c1b-39b2-4d7d-bb64-d5af432367d8",
   "metadata": {},
   "source": []
  },
  {
   "cell_type": "markdown",
   "id": "9f5381eb-ee7a-46a3-a29b-1b114b18490c",
   "metadata": {},
   "source": []
  },
  {
   "cell_type": "markdown",
   "id": "a98ea5d1-5455-4237-85d6-03bc60fde9d2",
   "metadata": {},
   "source": []
  },
  {
   "cell_type": "markdown",
   "id": "dc0c447c-91e4-414a-8924-968dbe88f55d",
   "metadata": {},
   "source": []
  },
  {
   "cell_type": "markdown",
   "id": "d540bf99-ae45-4966-8247-7e5b84c885f1",
   "metadata": {},
   "source": []
  },
  {
   "cell_type": "markdown",
   "id": "a6408565-6a2d-45fc-860e-9d3165092eef",
   "metadata": {},
   "source": []
  },
  {
   "cell_type": "markdown",
   "id": "4a70d49a-b3e6-4cbf-9c30-d748a8bf304d",
   "metadata": {},
   "source": []
  },
  {
   "cell_type": "markdown",
   "id": "f51f0a70-76fb-42aa-a3a3-c31f02446f94",
   "metadata": {},
   "source": []
  },
  {
   "cell_type": "markdown",
   "id": "07bd0915-c498-43dc-974d-32648f23723e",
   "metadata": {},
   "source": []
  },
  {
   "cell_type": "markdown",
   "id": "f84ef3e6-9a24-4c51-bb0f-844bf4ebf476",
   "metadata": {},
   "source": []
  },
  {
   "cell_type": "markdown",
   "id": "40b3d8f1-9b2a-4009-bd51-cb6f15d2a18f",
   "metadata": {},
   "source": []
  },
  {
   "cell_type": "markdown",
   "id": "cfbaab54-9751-4665-abc3-8bd62fb82e67",
   "metadata": {},
   "source": []
  },
  {
   "cell_type": "markdown",
   "id": "0b3d80e3-0970-486c-9162-de328c932fdc",
   "metadata": {},
   "source": []
  },
  {
   "cell_type": "markdown",
   "id": "612ffb8b-c254-4003-be6b-6a968c53ffbc",
   "metadata": {},
   "source": []
  },
  {
   "cell_type": "markdown",
   "id": "bbd2bf3a-0174-456f-9026-0ba1b5a8d094",
   "metadata": {},
   "source": []
  },
  {
   "cell_type": "markdown",
   "id": "1072c921-affc-478e-8aad-3d30f5fb3d0c",
   "metadata": {},
   "source": []
  },
  {
   "cell_type": "markdown",
   "id": "1d074183-af37-4c45-a8cd-b85e7a54e7b9",
   "metadata": {},
   "source": []
  },
  {
   "cell_type": "markdown",
   "id": "965c584a-fcbb-4e9e-8d9e-857a2b92faaf",
   "metadata": {},
   "source": []
  },
  {
   "cell_type": "markdown",
   "id": "89cd078e-968e-4e9b-bb5f-f76bb53a3cd6",
   "metadata": {},
   "source": []
  },
  {
   "cell_type": "markdown",
   "id": "f304c988-eebf-4ece-966d-48a63cb9d318",
   "metadata": {},
   "source": []
  },
  {
   "cell_type": "markdown",
   "id": "4b877cda-f705-4b26-a850-d41ccfd20ac0",
   "metadata": {},
   "source": []
  },
  {
   "cell_type": "markdown",
   "id": "89157534-d8be-4989-98bf-131f114eb432",
   "metadata": {},
   "source": []
  },
  {
   "cell_type": "markdown",
   "id": "bfedbe4e-0c63-4746-913b-e64951f572cb",
   "metadata": {},
   "source": []
  },
  {
   "cell_type": "markdown",
   "id": "c1ef7bc4-bba0-49c0-8729-e733683b9a71",
   "metadata": {},
   "source": []
  },
  {
   "cell_type": "markdown",
   "id": "30aa9f31-43c9-4dc7-a60c-19e262d24157",
   "metadata": {},
   "source": []
  },
  {
   "cell_type": "markdown",
   "id": "f132e27e-bc1f-429b-a81d-d2003bee8b35",
   "metadata": {},
   "source": []
  },
  {
   "cell_type": "markdown",
   "id": "9b9b12ed-d4fa-482c-ba13-dbca653f107e",
   "metadata": {},
   "source": []
  },
  {
   "cell_type": "markdown",
   "id": "d8493bf3-6dec-42b2-91b3-fc062515b17b",
   "metadata": {},
   "source": []
  },
  {
   "cell_type": "markdown",
   "id": "f6571015-c620-429a-a70f-0d129d54e9e7",
   "metadata": {},
   "source": []
  },
  {
   "cell_type": "markdown",
   "id": "81d37c09-5f73-476f-865b-34bbac197543",
   "metadata": {},
   "source": []
  },
  {
   "cell_type": "markdown",
   "id": "529b4039-a3b2-4e0b-ba02-af7f64bc4cce",
   "metadata": {},
   "source": []
  },
  {
   "cell_type": "markdown",
   "id": "9253359c-3b79-431d-a98e-67f0f1224b73",
   "metadata": {},
   "source": []
  },
  {
   "cell_type": "markdown",
   "id": "30f9c22a-ad04-417b-9126-9e7caaba2010",
   "metadata": {},
   "source": []
  },
  {
   "cell_type": "markdown",
   "id": "f893171a-24f2-40cc-a6e7-1cc9054a6cdb",
   "metadata": {},
   "source": []
  },
  {
   "cell_type": "markdown",
   "id": "44b43860-9756-4b41-918d-4ec3c8afd983",
   "metadata": {},
   "source": []
  },
  {
   "cell_type": "markdown",
   "id": "ecf20688-8e1e-4b34-a3d2-8e6597834830",
   "metadata": {},
   "source": []
  },
  {
   "cell_type": "markdown",
   "id": "3b8a2923-282a-4bcd-b8e9-7034b3ddf6a7",
   "metadata": {},
   "source": []
  },
  {
   "cell_type": "markdown",
   "id": "b863234b-a2df-4818-91c5-323fb01ea7ad",
   "metadata": {},
   "source": []
  },
  {
   "cell_type": "markdown",
   "id": "85383e37-6e20-4cbd-8704-f647cc1898db",
   "metadata": {},
   "source": []
  },
  {
   "cell_type": "markdown",
   "id": "4fc75c0f-c78d-4cc7-8d56-0b7d9b8d6000",
   "metadata": {},
   "source": []
  },
  {
   "cell_type": "markdown",
   "id": "37fe6ca6-7ab2-4e60-b6d2-9b1e3f3343f6",
   "metadata": {},
   "source": []
  },
  {
   "cell_type": "markdown",
   "id": "4214ec0f-c46c-4268-bd89-f891ae569b0d",
   "metadata": {},
   "source": []
  },
  {
   "cell_type": "markdown",
   "id": "c51a4b11-5f1a-4cf1-af31-a3760f9ff0f0",
   "metadata": {},
   "source": []
  },
  {
   "cell_type": "markdown",
   "id": "ecdfcbcd-65ca-44f4-9b6f-2f7b4f782e83",
   "metadata": {},
   "source": []
  },
  {
   "cell_type": "markdown",
   "id": "b13f0c81-f002-4fff-bbf7-e47cbcf6ffab",
   "metadata": {},
   "source": []
  },
  {
   "cell_type": "markdown",
   "id": "1ccd52be-de15-4e97-b6ef-1215f83f0128",
   "metadata": {},
   "source": []
  },
  {
   "cell_type": "markdown",
   "id": "42ad07a7-cb2c-4d5b-8343-bead0f934b64",
   "metadata": {},
   "source": []
  },
  {
   "cell_type": "markdown",
   "id": "a77298b6-87c5-4d19-b6e5-9aa964a4babd",
   "metadata": {},
   "source": []
  },
  {
   "cell_type": "markdown",
   "id": "1108dd56-ea6f-4e77-bca6-7ef3482a9b86",
   "metadata": {},
   "source": []
  },
  {
   "cell_type": "markdown",
   "id": "74149d31-13b4-4106-b6e8-54f823be64a4",
   "metadata": {},
   "source": []
  },
  {
   "cell_type": "markdown",
   "id": "65af54e0-5105-4bf7-9aed-e78f9a724d8c",
   "metadata": {},
   "source": []
  },
  {
   "cell_type": "markdown",
   "id": "23ed679d-6a7e-4992-9cd3-796f803722bd",
   "metadata": {},
   "source": []
  },
  {
   "cell_type": "markdown",
   "id": "6538e429-8262-4309-b850-8d4c7b9c1d5f",
   "metadata": {},
   "source": []
  },
  {
   "cell_type": "markdown",
   "id": "65cf3b36-6f7b-4d44-a2b5-a549dad1d8aa",
   "metadata": {},
   "source": []
  },
  {
   "cell_type": "markdown",
   "id": "82579bb7-40ce-4664-a750-802a005d2c17",
   "metadata": {},
   "source": []
  },
  {
   "cell_type": "markdown",
   "id": "fd7adabe-50cc-41d7-8d93-f7fde32a81c4",
   "metadata": {},
   "source": []
  },
  {
   "cell_type": "markdown",
   "id": "022be1dc-ae08-4555-8225-5fd2e48e522a",
   "metadata": {},
   "source": []
  },
  {
   "cell_type": "markdown",
   "id": "dca3caa1-4b76-4764-acc7-547160c6ce91",
   "metadata": {},
   "source": []
  },
  {
   "cell_type": "markdown",
   "id": "7cee8ffe-fa4c-40ac-b4a5-ce45b6677273",
   "metadata": {},
   "source": []
  },
  {
   "cell_type": "markdown",
   "id": "d005ca23-d586-4180-8de2-831ac7d687f5",
   "metadata": {},
   "source": []
  },
  {
   "cell_type": "markdown",
   "id": "6e63d383-2891-49ec-ba2e-4e48b0469e70",
   "metadata": {},
   "source": []
  },
  {
   "cell_type": "markdown",
   "id": "6420d250-69b9-4414-85e1-f8bc988596b2",
   "metadata": {},
   "source": []
  },
  {
   "cell_type": "markdown",
   "id": "e026abed-6241-4872-8fb9-afe6abd41747",
   "metadata": {},
   "source": []
  },
  {
   "cell_type": "markdown",
   "id": "89bfacd9-81eb-4ae1-8bc5-5d35893ffd1b",
   "metadata": {},
   "source": []
  },
  {
   "cell_type": "markdown",
   "id": "eb5104ed-012e-4c64-b4b5-8bb1c466b4d1",
   "metadata": {},
   "source": []
  },
  {
   "cell_type": "markdown",
   "id": "fcb47901-5afd-4927-8274-2f65294ae751",
   "metadata": {},
   "source": []
  },
  {
   "cell_type": "markdown",
   "id": "76546250-9029-4ff0-843d-ac11366ebd83",
   "metadata": {},
   "source": []
  },
  {
   "cell_type": "markdown",
   "id": "e88de368-a803-45e6-af72-f25c9808cff5",
   "metadata": {},
   "source": []
  },
  {
   "cell_type": "markdown",
   "id": "97761ec2-6a2a-4325-a7ae-3d8c4f52a77f",
   "metadata": {},
   "source": []
  },
  {
   "cell_type": "markdown",
   "id": "edea81d0-368a-4ed0-aa06-5d26b3c98976",
   "metadata": {},
   "source": []
  },
  {
   "cell_type": "markdown",
   "id": "c30d4908-d59b-4cf6-acb6-ff66cfd31d1a",
   "metadata": {},
   "source": []
  },
  {
   "cell_type": "markdown",
   "id": "fdf09eff-a29e-4f8e-87e2-73650b99177e",
   "metadata": {},
   "source": []
  },
  {
   "cell_type": "markdown",
   "id": "936e9261-a67f-49ad-83c3-a094fbcbb28c",
   "metadata": {},
   "source": []
  },
  {
   "cell_type": "markdown",
   "id": "e8400772-e3d4-4f90-8ad1-65ef3e006206",
   "metadata": {},
   "source": []
  },
  {
   "cell_type": "markdown",
   "id": "9fdf3274-6119-4c1e-b346-6e0c8d8ae435",
   "metadata": {},
   "source": []
  },
  {
   "cell_type": "markdown",
   "id": "0c0b9715-6a4e-4379-b1bb-f4ea94133e82",
   "metadata": {},
   "source": []
  },
  {
   "cell_type": "markdown",
   "id": "9789fc4e-8c06-4fd1-9afc-dfb7475b9b86",
   "metadata": {},
   "source": []
  },
  {
   "cell_type": "markdown",
   "id": "8f78af60-55fd-4815-a2f0-444af510a721",
   "metadata": {},
   "source": []
  },
  {
   "cell_type": "markdown",
   "id": "1fd6a368-acb8-4328-bd1f-c2c0daa84987",
   "metadata": {},
   "source": []
  },
  {
   "cell_type": "markdown",
   "id": "ac8e147c-0d2b-49ee-bf1d-2547b7ae3180",
   "metadata": {},
   "source": []
  },
  {
   "cell_type": "markdown",
   "id": "2b8444df-a74e-4fa8-a7a6-b9dfbcf7e133",
   "metadata": {},
   "source": []
  },
  {
   "cell_type": "markdown",
   "id": "b1d581d3-6a65-48a9-88f7-80c2006836ca",
   "metadata": {},
   "source": []
  },
  {
   "cell_type": "markdown",
   "id": "7265232d-8632-4ec3-9c64-ee0c40b68494",
   "metadata": {},
   "source": []
  },
  {
   "cell_type": "markdown",
   "id": "b01a365b-2185-4fdf-a796-7a7b4e7d846b",
   "metadata": {},
   "source": []
  },
  {
   "cell_type": "markdown",
   "id": "f138201f-6db0-497f-92ac-e9e5913549a2",
   "metadata": {},
   "source": []
  },
  {
   "cell_type": "markdown",
   "id": "6fa2d7ec-d333-487d-b88c-9a15986e786e",
   "metadata": {},
   "source": []
  },
  {
   "cell_type": "markdown",
   "id": "f1b4bb8d-4a1d-4cf1-8ee4-9ea0b9162e7d",
   "metadata": {},
   "source": []
  },
  {
   "cell_type": "markdown",
   "id": "b75d2004-f605-4cae-a067-f87021e2411d",
   "metadata": {},
   "source": []
  },
  {
   "cell_type": "markdown",
   "id": "7e2e9adb-4185-4802-ab56-cd8e44dec5c1",
   "metadata": {},
   "source": []
  },
  {
   "cell_type": "markdown",
   "id": "ba45791b-0ba7-4656-addd-061479ad97e0",
   "metadata": {},
   "source": []
  },
  {
   "cell_type": "markdown",
   "id": "ce7e5e4e-05fc-4121-8ec7-7837cdfdd874",
   "metadata": {},
   "source": []
  },
  {
   "cell_type": "markdown",
   "id": "14bb56d8-9271-4b92-a07e-e768cb1f1133",
   "metadata": {},
   "source": []
  },
  {
   "cell_type": "markdown",
   "id": "c990bf30-4dd6-42e6-bc8b-fd0c83419ad5",
   "metadata": {},
   "source": []
  },
  {
   "cell_type": "markdown",
   "id": "9a00251a-5ab2-4faf-aba0-ea0e0a7d99c7",
   "metadata": {},
   "source": []
  },
  {
   "cell_type": "markdown",
   "id": "62c3ba77-d8a5-444a-b35a-c87517cb2181",
   "metadata": {},
   "source": []
  },
  {
   "cell_type": "markdown",
   "id": "4f9fe8e6-9f13-4ef5-a96c-059b1ecfc4ea",
   "metadata": {},
   "source": []
  },
  {
   "cell_type": "markdown",
   "id": "51ef9390-3d3f-495a-b923-130eb58be7b9",
   "metadata": {},
   "source": []
  },
  {
   "cell_type": "markdown",
   "id": "caac0dc4-8a3a-42a2-bdef-d0adce9ce09a",
   "metadata": {},
   "source": []
  },
  {
   "cell_type": "markdown",
   "id": "712fd7f2-072b-419b-89b5-c71549b5a5e0",
   "metadata": {},
   "source": []
  },
  {
   "cell_type": "markdown",
   "id": "a21c9d58-a47d-41a2-bf4c-e2b3a4144ea9",
   "metadata": {},
   "source": []
  },
  {
   "cell_type": "markdown",
   "id": "040b7ff7-ae5d-4898-9c79-ca4b40ac53bd",
   "metadata": {},
   "source": []
  },
  {
   "cell_type": "markdown",
   "id": "21e80c0b-7f79-4d03-b35d-d8ed5839b08c",
   "metadata": {},
   "source": []
  },
  {
   "cell_type": "markdown",
   "id": "8bd39b82-957f-4e47-9415-ed5c0ff6e16d",
   "metadata": {},
   "source": []
  },
  {
   "cell_type": "markdown",
   "id": "2b03c690-147e-4676-8a40-c6232830e012",
   "metadata": {},
   "source": []
  },
  {
   "cell_type": "markdown",
   "id": "c06b43dc-b4e2-4285-af16-38924168f590",
   "metadata": {},
   "source": []
  },
  {
   "cell_type": "markdown",
   "id": "a5aeafd2-6323-4ebb-b30e-76e799b3e30f",
   "metadata": {},
   "source": []
  },
  {
   "cell_type": "markdown",
   "id": "b9ec03f2-22fc-40d8-bdaf-6b8f752159be",
   "metadata": {},
   "source": []
  },
  {
   "cell_type": "markdown",
   "id": "d85028f8-4c74-455d-9840-88a14c559d6e",
   "metadata": {},
   "source": []
  },
  {
   "cell_type": "markdown",
   "id": "cf292765-306a-4d29-8863-b776560551bf",
   "metadata": {},
   "source": []
  },
  {
   "cell_type": "markdown",
   "id": "b651a669-39ad-44c9-a641-b76ed64b6cd1",
   "metadata": {},
   "source": []
  },
  {
   "cell_type": "markdown",
   "id": "0f57faba-e758-4ed4-899a-6eaf13aa1d4a",
   "metadata": {},
   "source": []
  },
  {
   "cell_type": "markdown",
   "id": "ea7029fc-1ec8-49de-aea5-e9e59950a9eb",
   "metadata": {},
   "source": []
  },
  {
   "cell_type": "markdown",
   "id": "d89432e7-a65f-4d8b-89ce-f94ba8c7f6b2",
   "metadata": {},
   "source": []
  },
  {
   "cell_type": "markdown",
   "id": "d0d0f787-5c07-47be-a174-8413745b3152",
   "metadata": {},
   "source": []
  },
  {
   "cell_type": "markdown",
   "id": "f1af97f9-15e9-483c-890f-1f281d64d5c2",
   "metadata": {},
   "source": []
  },
  {
   "cell_type": "markdown",
   "id": "bbfdf342-6aa2-43d9-9e1d-0a96f85f34cf",
   "metadata": {},
   "source": []
  },
  {
   "cell_type": "markdown",
   "id": "b3e7bd4d-9642-4ac9-b270-c738ace3b93d",
   "metadata": {},
   "source": []
  },
  {
   "cell_type": "markdown",
   "id": "153fab83-bc87-40fc-85c8-678c57563ba7",
   "metadata": {},
   "source": []
  },
  {
   "cell_type": "markdown",
   "id": "d0b086f4-6b0d-43c4-8733-4851dff832fa",
   "metadata": {},
   "source": []
  },
  {
   "cell_type": "markdown",
   "id": "bff11d33-9e5f-48bb-a55d-e16e9c7fe8f9",
   "metadata": {},
   "source": []
  },
  {
   "cell_type": "markdown",
   "id": "bb7a2651-0be3-4b22-a853-1e6865edc5c3",
   "metadata": {},
   "source": []
  },
  {
   "cell_type": "markdown",
   "id": "4c4bbe92-7cf2-4f4d-89b5-570e17e445c4",
   "metadata": {},
   "source": []
  },
  {
   "cell_type": "markdown",
   "id": "2f82937b-7ea4-4799-8899-b7e81ec3e9c2",
   "metadata": {},
   "source": []
  },
  {
   "cell_type": "markdown",
   "id": "f0800ef5-f0ab-4bfd-b35d-f8f504b63bb0",
   "metadata": {},
   "source": []
  },
  {
   "cell_type": "markdown",
   "id": "124cce6a-b746-4e7e-9f50-2b73ee71dcd7",
   "metadata": {},
   "source": []
  },
  {
   "cell_type": "markdown",
   "id": "af22e13e-dee3-48bf-b88c-1184e1b59d2c",
   "metadata": {},
   "source": []
  },
  {
   "cell_type": "markdown",
   "id": "38a63f31-94e1-4ca9-919d-51d2cf0c7c1c",
   "metadata": {},
   "source": []
  },
  {
   "cell_type": "markdown",
   "id": "a245c4cb-2dc7-4951-8a06-55a5ffa9db62",
   "metadata": {},
   "source": []
  },
  {
   "cell_type": "markdown",
   "id": "35cacf86-a6b7-49ca-808f-8b7fb24da003",
   "metadata": {},
   "source": []
  },
  {
   "cell_type": "markdown",
   "id": "1483a4d5-9223-4969-9489-e0e16e8856f6",
   "metadata": {},
   "source": []
  },
  {
   "cell_type": "markdown",
   "id": "f883773d-46b1-4c39-81c7-417b57923b01",
   "metadata": {},
   "source": []
  },
  {
   "cell_type": "markdown",
   "id": "b67d990c-ed92-4479-97bb-a86471660bf7",
   "metadata": {},
   "source": []
  },
  {
   "cell_type": "markdown",
   "id": "b80867a2-d83c-411d-a1ea-671011f0a886",
   "metadata": {},
   "source": []
  },
  {
   "cell_type": "markdown",
   "id": "6de67631-5b74-48e7-9129-aa5318db65a1",
   "metadata": {},
   "source": []
  },
  {
   "cell_type": "markdown",
   "id": "bbedb6a6-0158-4a10-9ea2-dfdcc892f5ac",
   "metadata": {},
   "source": []
  },
  {
   "cell_type": "markdown",
   "id": "a25a0ea4-0c18-474b-9159-ec2427899f87",
   "metadata": {},
   "source": []
  },
  {
   "cell_type": "markdown",
   "id": "66296e18-c4aa-4fc8-a380-4be43f2ed136",
   "metadata": {},
   "source": []
  },
  {
   "cell_type": "markdown",
   "id": "a3c74d9c-7a2d-4bf0-b301-71fe3b9e11bc",
   "metadata": {},
   "source": []
  },
  {
   "cell_type": "markdown",
   "id": "7154753e-284f-4978-835d-c61fa40ec1a4",
   "metadata": {},
   "source": []
  },
  {
   "cell_type": "markdown",
   "id": "c365e490-dae3-4e4b-b05f-276f429fbfc0",
   "metadata": {},
   "source": []
  },
  {
   "cell_type": "markdown",
   "id": "b5f8aa77-0981-4eee-b1a2-c2a31da3fdf4",
   "metadata": {},
   "source": []
  },
  {
   "cell_type": "markdown",
   "id": "d5141fd0-6abb-4189-af91-5fd023c7b020",
   "metadata": {},
   "source": []
  },
  {
   "cell_type": "markdown",
   "id": "795ec3ef-94f1-4d67-b70c-6657324ff0e7",
   "metadata": {},
   "source": []
  },
  {
   "cell_type": "markdown",
   "id": "adccfe5b-7c10-401c-bb08-6bf36f207b0e",
   "metadata": {},
   "source": []
  },
  {
   "cell_type": "markdown",
   "id": "6a6abc77-5ea3-4d8f-acfd-75ae6543b3fa",
   "metadata": {},
   "source": []
  },
  {
   "cell_type": "markdown",
   "id": "c5e57c16-e1f4-4a4f-9623-d4bd2b757deb",
   "metadata": {},
   "source": []
  },
  {
   "cell_type": "markdown",
   "id": "641a78ce-c277-4b1a-9ad4-3d73405d597e",
   "metadata": {},
   "source": []
  },
  {
   "cell_type": "markdown",
   "id": "5ed6f45e-4610-4435-8d58-0cd9cdb3b181",
   "metadata": {},
   "source": []
  },
  {
   "cell_type": "markdown",
   "id": "04eb5aaa-bfc4-45e7-9c49-63f73d066e21",
   "metadata": {},
   "source": []
  },
  {
   "cell_type": "markdown",
   "id": "ef3cc6d5-b1f8-457a-8e98-b5635dcc4ea8",
   "metadata": {},
   "source": []
  },
  {
   "cell_type": "markdown",
   "id": "adf67582-ce7a-4887-b786-72040841295e",
   "metadata": {},
   "source": []
  },
  {
   "cell_type": "markdown",
   "id": "5c4bf39f-d789-434f-aac4-e3d45a251fbd",
   "metadata": {},
   "source": []
  },
  {
   "cell_type": "markdown",
   "id": "d2e386a9-07ba-41c4-bc88-706d93b41b36",
   "metadata": {},
   "source": []
  },
  {
   "cell_type": "markdown",
   "id": "68051484-12e2-4b43-ac18-640e92fbe1be",
   "metadata": {},
   "source": []
  },
  {
   "cell_type": "markdown",
   "id": "937d614e-543d-4f41-ad10-08c518cde801",
   "metadata": {},
   "source": []
  },
  {
   "cell_type": "markdown",
   "id": "0a2bd27b-db48-4790-aa84-93e45c5cc5ec",
   "metadata": {},
   "source": []
  },
  {
   "cell_type": "markdown",
   "id": "0ced05a6-705a-46b5-a250-c29cffff7a26",
   "metadata": {},
   "source": []
  },
  {
   "cell_type": "markdown",
   "id": "517df44b-a001-438a-a976-ea32266bd4dd",
   "metadata": {},
   "source": []
  },
  {
   "cell_type": "markdown",
   "id": "9441e919-368a-415f-b5c6-125e9b4f797e",
   "metadata": {},
   "source": []
  },
  {
   "cell_type": "markdown",
   "id": "a0656d48-49f5-4c72-bc1a-a61b4764474b",
   "metadata": {},
   "source": []
  },
  {
   "cell_type": "markdown",
   "id": "c47ead80-2019-4885-a636-ecb8269ef5d4",
   "metadata": {},
   "source": []
  },
  {
   "cell_type": "markdown",
   "id": "3571d7de-19e1-493f-913e-cfaa75c96d10",
   "metadata": {},
   "source": []
  },
  {
   "cell_type": "markdown",
   "id": "3aeec8e9-8faf-4e8a-8549-6c47e0bfee68",
   "metadata": {},
   "source": []
  },
  {
   "cell_type": "markdown",
   "id": "24ac9db6-1b99-4e33-9256-8804989eaf0b",
   "metadata": {},
   "source": []
  },
  {
   "cell_type": "markdown",
   "id": "5bbac671-2007-4ac1-80e5-18d0ca90447f",
   "metadata": {},
   "source": []
  },
  {
   "cell_type": "markdown",
   "id": "dfe4c088-1d46-4404-8159-bc92038412a6",
   "metadata": {},
   "source": []
  },
  {
   "cell_type": "markdown",
   "id": "133e71b2-776f-4d33-b4f0-b603b8699e40",
   "metadata": {},
   "source": []
  },
  {
   "cell_type": "markdown",
   "id": "4117a761-f963-4f18-8e85-1118f81db9ab",
   "metadata": {},
   "source": []
  },
  {
   "cell_type": "markdown",
   "id": "fbcf795d-b5b5-4925-984b-5a1024a4d211",
   "metadata": {},
   "source": []
  },
  {
   "cell_type": "markdown",
   "id": "42642cb5-15bc-41a7-94ab-83516b426be3",
   "metadata": {},
   "source": []
  },
  {
   "cell_type": "markdown",
   "id": "414e1549-82f6-4519-8230-cc68d6b1a8da",
   "metadata": {},
   "source": []
  },
  {
   "cell_type": "markdown",
   "id": "8123edeb-695c-4d1f-881d-ae25516209b4",
   "metadata": {},
   "source": []
  },
  {
   "cell_type": "markdown",
   "id": "07181ac2-ab69-49bc-8e00-8d3acfe106d7",
   "metadata": {},
   "source": []
  },
  {
   "cell_type": "markdown",
   "id": "8a750bf1-2194-4256-a538-2c00d621a163",
   "metadata": {},
   "source": []
  },
  {
   "cell_type": "markdown",
   "id": "73fa7f03-c6e1-4a1f-b637-21645c27f54e",
   "metadata": {},
   "source": []
  },
  {
   "cell_type": "markdown",
   "id": "25849c9e-525f-4e82-921e-3eba87bf25ae",
   "metadata": {},
   "source": []
  },
  {
   "cell_type": "markdown",
   "id": "fd053507-f281-40b7-8760-139736fbedff",
   "metadata": {},
   "source": []
  },
  {
   "cell_type": "markdown",
   "id": "f9c6c1e4-608c-47dd-bcbb-56b124740fa2",
   "metadata": {},
   "source": []
  },
  {
   "cell_type": "markdown",
   "id": "b402f0ef-e478-403b-a3a4-2d1092249c58",
   "metadata": {},
   "source": []
  },
  {
   "cell_type": "markdown",
   "id": "429742be-ea28-4f55-af3d-534163cb7f10",
   "metadata": {},
   "source": []
  },
  {
   "cell_type": "markdown",
   "id": "b748a90c-8ab3-4323-a4f8-074552149e81",
   "metadata": {},
   "source": []
  },
  {
   "cell_type": "markdown",
   "id": "31706f7f-12bc-4f96-8463-4fb5737b43e0",
   "metadata": {},
   "source": []
  },
  {
   "cell_type": "markdown",
   "id": "85789acc-c148-474e-9ce8-76a6dd223619",
   "metadata": {},
   "source": []
  },
  {
   "cell_type": "markdown",
   "id": "27054343-bcd8-4b87-ad18-9482645a71e9",
   "metadata": {},
   "source": []
  },
  {
   "cell_type": "markdown",
   "id": "6f7cd6c1-f235-4641-82ee-f39e951d4e1a",
   "metadata": {},
   "source": []
  },
  {
   "cell_type": "markdown",
   "id": "6bea3c78-7a39-403e-86ae-029ba62fab46",
   "metadata": {},
   "source": []
  },
  {
   "cell_type": "markdown",
   "id": "70b6ea6f-c4ab-4102-99c9-2fdcee4eb8d5",
   "metadata": {},
   "source": []
  },
  {
   "cell_type": "markdown",
   "id": "974336b5-5da2-4170-8eb9-66926af3b00d",
   "metadata": {},
   "source": []
  },
  {
   "cell_type": "markdown",
   "id": "664d5961-138e-4df0-9cea-9be4580b71a2",
   "metadata": {},
   "source": []
  },
  {
   "cell_type": "markdown",
   "id": "d79da9da-8339-4f47-8c15-850ceebee169",
   "metadata": {},
   "source": []
  },
  {
   "cell_type": "markdown",
   "id": "46470867-7c00-45bd-b46d-c01867009f83",
   "metadata": {},
   "source": []
  },
  {
   "cell_type": "markdown",
   "id": "6058128d-d3f8-4851-b732-8180de57cbb7",
   "metadata": {},
   "source": []
  },
  {
   "cell_type": "markdown",
   "id": "93afddf8-b4ed-4d1f-8232-d5fbe7ab19d3",
   "metadata": {},
   "source": []
  },
  {
   "cell_type": "markdown",
   "id": "f2f78ac9-9f8a-4755-83b7-200ae6001822",
   "metadata": {},
   "source": []
  },
  {
   "cell_type": "markdown",
   "id": "8039698f-dd73-460e-8791-4022b107e3af",
   "metadata": {},
   "source": []
  },
  {
   "cell_type": "markdown",
   "id": "79d4e5ae-a3e0-4695-8a82-0f322035e221",
   "metadata": {},
   "source": []
  },
  {
   "cell_type": "markdown",
   "id": "0e5723ac-7bfb-45d6-981b-9fdf0a3747e5",
   "metadata": {},
   "source": []
  },
  {
   "cell_type": "markdown",
   "id": "6fe92bf2-7e36-4ca6-9d94-2feb936668ea",
   "metadata": {},
   "source": []
  },
  {
   "cell_type": "markdown",
   "id": "aa2b3617-4c68-4c62-b3e5-03bd7f56d7ed",
   "metadata": {},
   "source": []
  },
  {
   "cell_type": "markdown",
   "id": "7afe0a07-be6d-4cc9-a2a4-1277d691858c",
   "metadata": {},
   "source": []
  },
  {
   "cell_type": "markdown",
   "id": "ed06e3ac-de9e-4bf8-ae74-4b396c07c370",
   "metadata": {},
   "source": []
  },
  {
   "cell_type": "markdown",
   "id": "d0061869-ccb3-4df1-b4e0-5d881ca7cf75",
   "metadata": {},
   "source": []
  },
  {
   "cell_type": "markdown",
   "id": "f9e81df1-9b88-42e7-a376-29ce83526b1e",
   "metadata": {},
   "source": []
  },
  {
   "cell_type": "markdown",
   "id": "cbf4a4f6-41fa-49e0-aa67-e3b1e0137234",
   "metadata": {},
   "source": []
  },
  {
   "cell_type": "markdown",
   "id": "930c1aa1-6f3e-4163-a4ce-e32bc540f681",
   "metadata": {},
   "source": []
  },
  {
   "cell_type": "markdown",
   "id": "776dfc5b-f673-4199-b234-f02a9c74f5de",
   "metadata": {},
   "source": []
  },
  {
   "cell_type": "markdown",
   "id": "e7a3be90-8af1-46a4-bc6c-c164a87ca41a",
   "metadata": {},
   "source": []
  },
  {
   "cell_type": "markdown",
   "id": "bdedda1d-d98e-4b21-8548-826f358d8cf5",
   "metadata": {},
   "source": []
  },
  {
   "cell_type": "markdown",
   "id": "e4d1f490-89dc-410b-bc9a-227dc6b36ddd",
   "metadata": {},
   "source": []
  },
  {
   "cell_type": "markdown",
   "id": "bec27c4b-090b-42ce-a5dd-971ad63183d7",
   "metadata": {},
   "source": []
  },
  {
   "cell_type": "markdown",
   "id": "34af5dd7-17dd-4092-9fee-7c7041f3de49",
   "metadata": {},
   "source": []
  },
  {
   "cell_type": "markdown",
   "id": "828fda35-1641-445b-9143-02b66905eb4e",
   "metadata": {},
   "source": []
  },
  {
   "cell_type": "markdown",
   "id": "d224f716-c473-4ffe-934c-a2f2b6d60998",
   "metadata": {},
   "source": []
  },
  {
   "cell_type": "markdown",
   "id": "c96294c9-56a4-4a29-ba15-76c326d97a3c",
   "metadata": {},
   "source": []
  },
  {
   "cell_type": "markdown",
   "id": "60486a2f-58fb-4bb3-a1d4-9e05aa3547cc",
   "metadata": {},
   "source": []
  },
  {
   "cell_type": "markdown",
   "id": "dd9115bc-7194-4cba-8844-f37316608244",
   "metadata": {},
   "source": []
  },
  {
   "cell_type": "markdown",
   "id": "55409be6-e2cf-49d6-92ed-cd4b7e4d886c",
   "metadata": {},
   "source": []
  },
  {
   "cell_type": "markdown",
   "id": "47098899-217f-428d-ab2a-3a916bf368be",
   "metadata": {},
   "source": []
  },
  {
   "cell_type": "markdown",
   "id": "5947bafe-bb89-4f6a-b7f7-5f1e3c4b2a4e",
   "metadata": {},
   "source": []
  },
  {
   "cell_type": "markdown",
   "id": "c4f1d847-b292-43e3-9f15-e8e4fbabe14d",
   "metadata": {},
   "source": []
  },
  {
   "cell_type": "markdown",
   "id": "fc9135ba-a911-4704-b3ba-fcdde872aa3c",
   "metadata": {},
   "source": []
  },
  {
   "cell_type": "markdown",
   "id": "a8b2d157-e00f-4142-800a-c401b205321c",
   "metadata": {},
   "source": []
  },
  {
   "cell_type": "markdown",
   "id": "50ea79c5-0767-4839-a138-7e8947edf2f6",
   "metadata": {},
   "source": []
  },
  {
   "cell_type": "markdown",
   "id": "5b9ca316-1a2f-45f3-8c2f-e68831d98d91",
   "metadata": {},
   "source": []
  },
  {
   "cell_type": "markdown",
   "id": "7e0df055-9045-4e55-8568-935001838011",
   "metadata": {},
   "source": []
  },
  {
   "cell_type": "markdown",
   "id": "0c447308-7c31-49e8-ab55-28d834552f86",
   "metadata": {},
   "source": []
  },
  {
   "cell_type": "markdown",
   "id": "077bda6d-1fde-4abb-b634-f5d767c52da0",
   "metadata": {},
   "source": []
  },
  {
   "cell_type": "markdown",
   "id": "51c6693c-ae1d-48ba-a8f3-25d86574f80f",
   "metadata": {},
   "source": []
  },
  {
   "cell_type": "markdown",
   "id": "a7ace603-f4b4-498a-b75f-c296bb141d22",
   "metadata": {},
   "source": []
  },
  {
   "cell_type": "markdown",
   "id": "26ff6a25-44bb-42c1-8edc-697c88b3099d",
   "metadata": {},
   "source": []
  },
  {
   "cell_type": "markdown",
   "id": "5ad04c8f-7667-45b9-8bf6-c9408be57606",
   "metadata": {},
   "source": []
  },
  {
   "cell_type": "markdown",
   "id": "19e42a23-9fd1-45ab-bec7-b6a2ae057987",
   "metadata": {},
   "source": []
  },
  {
   "cell_type": "markdown",
   "id": "7fec7c5f-7bff-4ff6-b1a5-482cba1468b1",
   "metadata": {},
   "source": []
  },
  {
   "cell_type": "markdown",
   "id": "b6e294af-1503-4746-abd3-c55d9d320c29",
   "metadata": {},
   "source": []
  },
  {
   "cell_type": "markdown",
   "id": "49fbf858-7292-4d9a-b798-63b2367e7220",
   "metadata": {},
   "source": []
  },
  {
   "cell_type": "markdown",
   "id": "300da0d1-985f-497f-985f-4c7287747eaa",
   "metadata": {},
   "source": []
  },
  {
   "cell_type": "markdown",
   "id": "89a22444-edff-4537-8b81-a715ecee506c",
   "metadata": {},
   "source": []
  },
  {
   "cell_type": "markdown",
   "id": "c07eeb39-34df-4978-9e77-d2b77e48856f",
   "metadata": {},
   "source": []
  },
  {
   "cell_type": "markdown",
   "id": "d8c0160d-42c3-47f0-a5c4-44ffed8efa9a",
   "metadata": {},
   "source": []
  },
  {
   "cell_type": "markdown",
   "id": "70cf5b75-302d-4ea2-90be-cc3bae8cec2d",
   "metadata": {},
   "source": []
  },
  {
   "cell_type": "markdown",
   "id": "4614cd34-a452-454b-84ac-b16909a2e96c",
   "metadata": {},
   "source": []
  },
  {
   "cell_type": "markdown",
   "id": "7dfc40d9-c5e8-4cc6-bf3f-e6e1f56c349f",
   "metadata": {},
   "source": []
  },
  {
   "cell_type": "markdown",
   "id": "0acdc004-3a26-4c68-b192-1c0bd3250d9c",
   "metadata": {},
   "source": []
  },
  {
   "cell_type": "markdown",
   "id": "d9ef99e7-4f92-47c1-854a-e2ce149acdc0",
   "metadata": {},
   "source": []
  },
  {
   "cell_type": "markdown",
   "id": "8189ac35-c4a6-43f4-bfda-fa13b23e0a03",
   "metadata": {},
   "source": []
  },
  {
   "cell_type": "markdown",
   "id": "29108f89-eeb9-44a4-81dc-1be8bef522fa",
   "metadata": {},
   "source": []
  },
  {
   "cell_type": "markdown",
   "id": "36aeb60d-460a-46ac-876a-61609ae767dd",
   "metadata": {},
   "source": []
  },
  {
   "cell_type": "markdown",
   "id": "f6337a6a-d594-4a70-b182-845a04391fb6",
   "metadata": {},
   "source": []
  },
  {
   "cell_type": "markdown",
   "id": "e2ee5d08-ef24-4290-a760-d08d3656bca3",
   "metadata": {},
   "source": []
  },
  {
   "cell_type": "markdown",
   "id": "d6df6ed9-d07c-4cb4-b12b-1ad32b59e07a",
   "metadata": {},
   "source": []
  },
  {
   "cell_type": "markdown",
   "id": "dbc8f1f5-5978-4f47-97ac-8554edce8021",
   "metadata": {},
   "source": []
  },
  {
   "cell_type": "markdown",
   "id": "3b463f30-6c9f-4165-8656-a9ee40e44a6f",
   "metadata": {},
   "source": []
  },
  {
   "cell_type": "markdown",
   "id": "0f58db63-1bd8-4961-9482-17fc227b3940",
   "metadata": {},
   "source": []
  },
  {
   "cell_type": "markdown",
   "id": "384d0501-7569-4c74-bc19-800f4773a759",
   "metadata": {},
   "source": []
  },
  {
   "cell_type": "markdown",
   "id": "f1844b52-cacf-450f-9c95-8b6920d1b093",
   "metadata": {},
   "source": []
  },
  {
   "cell_type": "markdown",
   "id": "6513aba5-da1d-46bf-a7ed-3aa93550aad1",
   "metadata": {},
   "source": []
  },
  {
   "cell_type": "markdown",
   "id": "ab15d4d9-bb01-429a-8bf6-fe3e0eeeecaa",
   "metadata": {},
   "source": []
  },
  {
   "cell_type": "markdown",
   "id": "9ada7c21-6020-4760-8b3a-ac0d78f58dfe",
   "metadata": {},
   "source": []
  },
  {
   "cell_type": "markdown",
   "id": "d1ca3ca2-b446-4ee1-8f68-eb89d2907405",
   "metadata": {},
   "source": []
  },
  {
   "cell_type": "markdown",
   "id": "d0009851-ffb7-48fc-b30e-a0a7b111bf59",
   "metadata": {},
   "source": []
  },
  {
   "cell_type": "markdown",
   "id": "6aa1cc1e-4e43-428a-ac10-5c99673abb2b",
   "metadata": {},
   "source": []
  },
  {
   "cell_type": "markdown",
   "id": "29aa1d95-d25d-4d43-9ba0-68d6926a54b9",
   "metadata": {},
   "source": []
  },
  {
   "cell_type": "markdown",
   "id": "77d758e5-540d-4af4-a5a6-70dcc4c0f3ab",
   "metadata": {},
   "source": []
  },
  {
   "cell_type": "markdown",
   "id": "c3ef4460-7437-46c0-80cd-a021a6012a9b",
   "metadata": {},
   "source": []
  },
  {
   "cell_type": "markdown",
   "id": "1747042a-8e2f-4e0f-b420-e652c8fb01a6",
   "metadata": {},
   "source": []
  },
  {
   "cell_type": "markdown",
   "id": "bc94d210-dd0c-4231-a383-aab234a1a0c9",
   "metadata": {},
   "source": []
  },
  {
   "cell_type": "markdown",
   "id": "88cec5c2-f4c5-47dc-a172-777716b67c62",
   "metadata": {},
   "source": []
  },
  {
   "cell_type": "markdown",
   "id": "77e51e2e-0d45-41b1-b7c5-a104f338c979",
   "metadata": {},
   "source": []
  },
  {
   "cell_type": "markdown",
   "id": "d43a93e6-d0ab-4591-8bcd-6507a4c18a3b",
   "metadata": {},
   "source": []
  },
  {
   "cell_type": "markdown",
   "id": "0a1fe2c2-28ac-4f3b-9eee-d8f34c6f5a53",
   "metadata": {},
   "source": []
  },
  {
   "cell_type": "markdown",
   "id": "ef4b7164-b5c1-4f41-b754-8977f3e9464f",
   "metadata": {},
   "source": []
  },
  {
   "cell_type": "markdown",
   "id": "829f020c-7acc-4060-8bc4-c523ad1d0e5d",
   "metadata": {},
   "source": []
  },
  {
   "cell_type": "markdown",
   "id": "8d8f03a7-65fd-4793-9027-2bb4fd8c29e2",
   "metadata": {},
   "source": []
  },
  {
   "cell_type": "markdown",
   "id": "eefb290e-c4c8-423b-9b16-521ba10f8cc7",
   "metadata": {},
   "source": []
  },
  {
   "cell_type": "markdown",
   "id": "ee18f1ca-67f3-47fa-8166-7b6311025cd1",
   "metadata": {},
   "source": []
  },
  {
   "cell_type": "markdown",
   "id": "736a0f20-2187-4353-bb21-0c2868d75fed",
   "metadata": {},
   "source": []
  },
  {
   "cell_type": "markdown",
   "id": "17a66082-6266-4ec1-a7e5-4c28a0e67a73",
   "metadata": {},
   "source": []
  },
  {
   "cell_type": "markdown",
   "id": "b7d3327b-1cd9-4533-a437-c88dba1fcd9c",
   "metadata": {},
   "source": []
  },
  {
   "cell_type": "markdown",
   "id": "4a2ad094-0ced-49dc-ac4b-2cb682391ace",
   "metadata": {},
   "source": []
  },
  {
   "cell_type": "markdown",
   "id": "ed52411a-e368-41d0-834c-29c819cb965e",
   "metadata": {},
   "source": []
  },
  {
   "cell_type": "markdown",
   "id": "0e5d9b87-9c37-4d08-9e2c-51729f489df1",
   "metadata": {},
   "source": []
  },
  {
   "cell_type": "markdown",
   "id": "b49aea9b-e745-41c2-ba01-f32e0f3be3bc",
   "metadata": {},
   "source": []
  },
  {
   "cell_type": "markdown",
   "id": "05feb213-6f3b-4389-b434-e85efcf2c5ff",
   "metadata": {},
   "source": []
  },
  {
   "cell_type": "markdown",
   "id": "374291bd-8ea2-4c4a-a697-9fd2441fdc6d",
   "metadata": {},
   "source": []
  },
  {
   "cell_type": "markdown",
   "id": "1508c3ec-2ac8-4ad3-a01b-0cf793eec8b7",
   "metadata": {},
   "source": []
  },
  {
   "cell_type": "markdown",
   "id": "96834c4b-77e6-4d3e-9f95-0ad286e024aa",
   "metadata": {},
   "source": []
  },
  {
   "cell_type": "markdown",
   "id": "9d46f22d-1382-43ee-aaf0-e3f755f1b28d",
   "metadata": {},
   "source": []
  },
  {
   "cell_type": "markdown",
   "id": "f1a56d10-e0a8-43f2-b3ee-8190f6032ac7",
   "metadata": {},
   "source": []
  },
  {
   "cell_type": "markdown",
   "id": "eb09c30d-fc1d-43ac-ae93-1d0cbab66ffe",
   "metadata": {},
   "source": []
  },
  {
   "cell_type": "markdown",
   "id": "fea6619f-6300-44c1-8276-55ff0399f175",
   "metadata": {},
   "source": []
  },
  {
   "cell_type": "markdown",
   "id": "c871ffa2-5ed4-4c3e-9c8c-9a3cff124491",
   "metadata": {},
   "source": []
  },
  {
   "cell_type": "markdown",
   "id": "37d09d90-411b-40ad-8aa0-f0ce3b89f0f4",
   "metadata": {},
   "source": []
  },
  {
   "cell_type": "markdown",
   "id": "75b3bf6f-a9ca-4eb3-b71b-fd987b926db2",
   "metadata": {},
   "source": []
  },
  {
   "cell_type": "markdown",
   "id": "f30b6138-02d1-4050-b30b-044abf0a9ac7",
   "metadata": {},
   "source": []
  },
  {
   "cell_type": "markdown",
   "id": "5d4e52ff-1eaf-48a0-9cdd-6e698f86f771",
   "metadata": {},
   "source": []
  },
  {
   "cell_type": "markdown",
   "id": "856abd66-2081-4a0e-ab89-122f8efb378c",
   "metadata": {},
   "source": []
  },
  {
   "cell_type": "markdown",
   "id": "b6721040-6a76-46af-86b5-eccf8c53e648",
   "metadata": {},
   "source": []
  },
  {
   "cell_type": "markdown",
   "id": "59918d71-c9b1-406f-931a-27832cf35863",
   "metadata": {},
   "source": []
  },
  {
   "cell_type": "markdown",
   "id": "7c658f43-6aee-4b17-87d7-c8d76157dc73",
   "metadata": {},
   "source": []
  },
  {
   "cell_type": "markdown",
   "id": "8024d5ab-c4c7-4e07-9b85-37ed00882ca9",
   "metadata": {},
   "source": []
  },
  {
   "cell_type": "markdown",
   "id": "fa89e92f-d0c8-4be1-94e6-3453499dbcfc",
   "metadata": {},
   "source": []
  },
  {
   "cell_type": "markdown",
   "id": "b24186db-38a7-4f55-bbb4-aec185779785",
   "metadata": {},
   "source": []
  },
  {
   "cell_type": "markdown",
   "id": "c997281b-c356-47a4-a787-78feeebffa74",
   "metadata": {},
   "source": []
  },
  {
   "cell_type": "markdown",
   "id": "b5b4aa6f-32a6-43c1-a310-19f394ae2007",
   "metadata": {},
   "source": []
  },
  {
   "cell_type": "markdown",
   "id": "748c6ff2-b8b1-4ad5-aad6-bc4f1cde4634",
   "metadata": {},
   "source": []
  },
  {
   "cell_type": "markdown",
   "id": "e3688435-4eec-4ce8-8e82-340c6b560efe",
   "metadata": {},
   "source": []
  },
  {
   "cell_type": "markdown",
   "id": "ccea50a6-8444-45b7-84b8-95accbf08ceb",
   "metadata": {},
   "source": []
  },
  {
   "cell_type": "markdown",
   "id": "bd361311-6d71-498b-bdd2-ce1929d43531",
   "metadata": {},
   "source": []
  },
  {
   "cell_type": "markdown",
   "id": "d77d5bb6-b8ec-4f05-b9b5-1c907e6aa4fe",
   "metadata": {},
   "source": []
  },
  {
   "cell_type": "markdown",
   "id": "f070029f-4528-42fc-85a2-686097184e47",
   "metadata": {},
   "source": []
  },
  {
   "cell_type": "markdown",
   "id": "b847cd18-1b66-4ea5-8f8c-82b64ef84301",
   "metadata": {},
   "source": []
  },
  {
   "cell_type": "markdown",
   "id": "b37c3982-2b65-4ec0-b2c8-9f1307f6720a",
   "metadata": {},
   "source": []
  },
  {
   "cell_type": "markdown",
   "id": "1d3ffaca-c2b5-4b8e-b0f9-29ec44ee9beb",
   "metadata": {},
   "source": []
  },
  {
   "cell_type": "markdown",
   "id": "861523a8-2c62-444a-b992-4edca887dbdf",
   "metadata": {},
   "source": []
  },
  {
   "cell_type": "markdown",
   "id": "02d099ae-ee43-459c-b655-92b99894de21",
   "metadata": {},
   "source": []
  },
  {
   "cell_type": "markdown",
   "id": "b39dd5df-2a95-40f2-9927-326428d63ccc",
   "metadata": {},
   "source": []
  },
  {
   "cell_type": "markdown",
   "id": "7ff51162-78d9-43d3-8e4e-32069149624e",
   "metadata": {},
   "source": []
  },
  {
   "cell_type": "markdown",
   "id": "471e5b88-c66c-4326-9446-38a65113ae1f",
   "metadata": {},
   "source": []
  },
  {
   "cell_type": "markdown",
   "id": "3ecf2d86-6842-4138-b2ef-40fb0e2cc3b3",
   "metadata": {},
   "source": []
  },
  {
   "cell_type": "markdown",
   "id": "e6998745-6be7-4b2e-90ba-3c857d97d6c3",
   "metadata": {},
   "source": []
  },
  {
   "cell_type": "markdown",
   "id": "ab3fd32f-056a-4b9b-86ce-952aa267885f",
   "metadata": {},
   "source": []
  },
  {
   "cell_type": "markdown",
   "id": "50de7792-e152-45ee-9f76-c15bbcbb41d5",
   "metadata": {},
   "source": []
  },
  {
   "cell_type": "markdown",
   "id": "715e1901-e317-4818-83b4-abf3e37a4e9f",
   "metadata": {},
   "source": []
  },
  {
   "cell_type": "markdown",
   "id": "b0008b33-8a1a-45ab-9f7b-291bd6444419",
   "metadata": {},
   "source": []
  },
  {
   "cell_type": "markdown",
   "id": "04c4b344-4d0b-4448-9744-9f292f1cd0d4",
   "metadata": {},
   "source": []
  },
  {
   "cell_type": "markdown",
   "id": "7f81eb82-7130-41e6-a8af-92ea1a7f4d98",
   "metadata": {},
   "source": []
  },
  {
   "cell_type": "markdown",
   "id": "fb0881b1-48cf-40cd-8808-ee9b32ab9f18",
   "metadata": {},
   "source": []
  },
  {
   "cell_type": "markdown",
   "id": "04202fce-e2a1-4317-bab6-aa2d7b2bf5d0",
   "metadata": {},
   "source": []
  },
  {
   "cell_type": "markdown",
   "id": "ccc5fccc-c199-48b5-85ff-6b6d00c74bdd",
   "metadata": {},
   "source": []
  },
  {
   "cell_type": "markdown",
   "id": "3f51cc38-2242-454e-a915-7b634b176cca",
   "metadata": {},
   "source": []
  },
  {
   "cell_type": "markdown",
   "id": "6e81e7e8-2484-4133-abaa-1742621d72da",
   "metadata": {},
   "source": []
  },
  {
   "cell_type": "markdown",
   "id": "158c0bd7-8d85-4f41-9d95-b5a153ecde4a",
   "metadata": {},
   "source": []
  },
  {
   "cell_type": "markdown",
   "id": "87bd5257-4255-46d5-8b79-349fbb3d8dea",
   "metadata": {},
   "source": []
  },
  {
   "cell_type": "markdown",
   "id": "034d794e-a66d-4cb7-b79a-1b383cf11a46",
   "metadata": {},
   "source": []
  },
  {
   "cell_type": "markdown",
   "id": "df53246f-2e50-4937-b02f-ed7f3ac8d929",
   "metadata": {},
   "source": []
  },
  {
   "cell_type": "markdown",
   "id": "2daa91e7-3477-4ad6-b3fe-de6c862070b2",
   "metadata": {},
   "source": []
  },
  {
   "cell_type": "markdown",
   "id": "1b687257-ffe1-4672-bee6-a5d5ffce76c7",
   "metadata": {},
   "source": []
  },
  {
   "cell_type": "markdown",
   "id": "1cd0cf39-378c-477c-9748-14ebeb159e6f",
   "metadata": {},
   "source": []
  },
  {
   "cell_type": "markdown",
   "id": "ac06a8d8-9634-4270-93d9-06ef72317b35",
   "metadata": {},
   "source": []
  },
  {
   "cell_type": "markdown",
   "id": "71997fb9-0bda-4097-ae88-41fdb389aa3b",
   "metadata": {},
   "source": []
  },
  {
   "cell_type": "markdown",
   "id": "891651dc-6803-4894-a7cf-3b4623bc0481",
   "metadata": {},
   "source": []
  },
  {
   "cell_type": "markdown",
   "id": "bf1765f6-9045-4c19-bb8b-eaa5480fecd9",
   "metadata": {},
   "source": []
  },
  {
   "cell_type": "markdown",
   "id": "e9a9eacc-7c5d-47b1-b16f-e496ef657065",
   "metadata": {},
   "source": []
  },
  {
   "cell_type": "markdown",
   "id": "157d57a9-2ec5-40ff-9451-627c2eb2aed7",
   "metadata": {},
   "source": []
  },
  {
   "cell_type": "markdown",
   "id": "35e9722f-6c46-4b44-99a9-7f6fddc8ee7a",
   "metadata": {},
   "source": []
  },
  {
   "cell_type": "markdown",
   "id": "29f46d2f-8087-46ae-86da-ab1b5e76a991",
   "metadata": {},
   "source": []
  },
  {
   "cell_type": "markdown",
   "id": "43312267-17fe-4a51-8157-49584824733b",
   "metadata": {},
   "source": []
  },
  {
   "cell_type": "markdown",
   "id": "8394d423-a16a-4035-b0e9-40825329d0e6",
   "metadata": {},
   "source": []
  },
  {
   "cell_type": "markdown",
   "id": "f29003a6-14b5-4cda-8657-b56ef0a3c921",
   "metadata": {},
   "source": []
  },
  {
   "cell_type": "markdown",
   "id": "c3fa8a09-4803-4ff9-93b9-a5d0d0c906ac",
   "metadata": {},
   "source": []
  },
  {
   "cell_type": "markdown",
   "id": "0599a4c2-17bd-42a9-b46e-dd0ba605d847",
   "metadata": {},
   "source": []
  },
  {
   "cell_type": "markdown",
   "id": "6e445e4a-78e1-4fc5-98bc-5c2e2d4750ae",
   "metadata": {},
   "source": []
  },
  {
   "cell_type": "markdown",
   "id": "5547fc2b-c542-4c95-ae50-08a1371e4791",
   "metadata": {},
   "source": []
  },
  {
   "cell_type": "markdown",
   "id": "73beb346-9f95-4bc9-8d27-fbe085fd21dc",
   "metadata": {},
   "source": []
  },
  {
   "cell_type": "markdown",
   "id": "87c262a6-9710-4d37-a232-c4f5d9a28514",
   "metadata": {},
   "source": []
  },
  {
   "cell_type": "markdown",
   "id": "633e6c2e-a9a4-4bed-a936-8afeddf0f048",
   "metadata": {},
   "source": []
  },
  {
   "cell_type": "markdown",
   "id": "108a9862-dfa8-430e-91af-8bd05b955969",
   "metadata": {},
   "source": []
  },
  {
   "cell_type": "markdown",
   "id": "ba0130c3-c9a3-4c7b-944d-49176f14aa07",
   "metadata": {},
   "source": []
  },
  {
   "cell_type": "markdown",
   "id": "8c2e3fc1-c6c7-44af-86fd-4ccab134925d",
   "metadata": {},
   "source": []
  },
  {
   "cell_type": "markdown",
   "id": "ae712f8c-5b97-4ff7-9eb2-d35a26f9bd7c",
   "metadata": {},
   "source": []
  },
  {
   "cell_type": "markdown",
   "id": "04ffb895-9666-4752-b79c-6e5a5e51d6c4",
   "metadata": {},
   "source": []
  },
  {
   "cell_type": "markdown",
   "id": "14b08b68-88d0-4e1e-aa07-fd514bbe5f2c",
   "metadata": {},
   "source": []
  },
  {
   "cell_type": "markdown",
   "id": "a44e82c3-ee98-40f8-a609-d4848ef4595e",
   "metadata": {},
   "source": []
  },
  {
   "cell_type": "markdown",
   "id": "c651cfac-955a-48f6-bccf-2b18a2e9cd2e",
   "metadata": {},
   "source": []
  },
  {
   "cell_type": "markdown",
   "id": "a8486023-a6dc-4672-87fb-26aee3c66127",
   "metadata": {},
   "source": []
  },
  {
   "cell_type": "markdown",
   "id": "e75cf411-bf83-402d-aa1c-b649d6f2b127",
   "metadata": {},
   "source": []
  },
  {
   "cell_type": "markdown",
   "id": "aa2f97bb-d55e-4f0a-b620-ed954cdc1fb8",
   "metadata": {},
   "source": []
  },
  {
   "cell_type": "markdown",
   "id": "23e96493-c95a-48dc-bdc4-5c6416cf284a",
   "metadata": {},
   "source": []
  },
  {
   "cell_type": "markdown",
   "id": "3ef56522-a6c5-4db2-8b94-be1079d5e0e3",
   "metadata": {},
   "source": []
  },
  {
   "cell_type": "markdown",
   "id": "0fc40661-4ec1-4a47-964b-b776b374e5e5",
   "metadata": {},
   "source": []
  },
  {
   "cell_type": "markdown",
   "id": "e9f8829f-2140-4b88-a513-f975f178cc88",
   "metadata": {},
   "source": []
  },
  {
   "cell_type": "markdown",
   "id": "27a66ea6-4502-4f9d-bf19-39b6969297d2",
   "metadata": {},
   "source": []
  },
  {
   "cell_type": "markdown",
   "id": "cebbff97-8ae5-4809-82d3-0e3c8670cf84",
   "metadata": {},
   "source": []
  },
  {
   "cell_type": "markdown",
   "id": "cde2810f-f266-43a9-8ba0-a43cc8e4a805",
   "metadata": {},
   "source": []
  },
  {
   "cell_type": "markdown",
   "id": "9280f370-a816-4075-9d28-bc14706e4758",
   "metadata": {},
   "source": []
  },
  {
   "cell_type": "markdown",
   "id": "bf123bc9-a490-4aef-b29a-c8d3f0d056ac",
   "metadata": {},
   "source": []
  },
  {
   "cell_type": "markdown",
   "id": "dadfaf44-6e99-4de7-a274-2c2b6518040b",
   "metadata": {},
   "source": []
  },
  {
   "cell_type": "markdown",
   "id": "c9f97a64-23d6-45fb-b7cf-38f5e0ff836e",
   "metadata": {},
   "source": []
  },
  {
   "cell_type": "markdown",
   "id": "9168749a-2356-48fb-a7ff-62b4b7e2a9ac",
   "metadata": {},
   "source": []
  },
  {
   "cell_type": "markdown",
   "id": "e3b26be9-035e-4073-9365-44a34e0f51d7",
   "metadata": {},
   "source": []
  },
  {
   "cell_type": "markdown",
   "id": "22fe39bf-2e2a-4442-aa65-311f39221686",
   "metadata": {},
   "source": []
  },
  {
   "cell_type": "markdown",
   "id": "e96156bb-fb25-4b49-a744-0b204ad5ba1a",
   "metadata": {},
   "source": []
  },
  {
   "cell_type": "markdown",
   "id": "ad187ca7-0dcd-49e0-9741-2c60a36327d4",
   "metadata": {},
   "source": []
  },
  {
   "cell_type": "markdown",
   "id": "16d1b677-3089-4f65-bed0-70b249cb3533",
   "metadata": {},
   "source": []
  },
  {
   "cell_type": "markdown",
   "id": "5ce7b0e5-21b1-44f2-9101-7c7bb8058979",
   "metadata": {},
   "source": []
  },
  {
   "cell_type": "markdown",
   "id": "976dfd1d-4b1f-4f14-9130-30e06494d285",
   "metadata": {},
   "source": []
  },
  {
   "cell_type": "markdown",
   "id": "f127c44f-5241-4b82-8990-0395ff0b2ebb",
   "metadata": {},
   "source": []
  },
  {
   "cell_type": "markdown",
   "id": "162ef9f0-e861-43ea-b91c-3fa02cb5b4c3",
   "metadata": {},
   "source": []
  },
  {
   "cell_type": "markdown",
   "id": "1acb326c-95e4-40d9-b2f6-d6b3fb57005c",
   "metadata": {},
   "source": []
  },
  {
   "cell_type": "markdown",
   "id": "e9fde856-9e0a-4e04-a821-6f09a3f2ea7e",
   "metadata": {},
   "source": []
  },
  {
   "cell_type": "markdown",
   "id": "8e66e5fe-86aa-48d1-9c83-4559181a62a4",
   "metadata": {},
   "source": []
  },
  {
   "cell_type": "markdown",
   "id": "83ed6315-6004-49b8-8a7d-1c0d222ff86e",
   "metadata": {},
   "source": []
  },
  {
   "cell_type": "markdown",
   "id": "cd4ee3f2-de19-4e71-92e7-81e9f42fcf13",
   "metadata": {},
   "source": []
  },
  {
   "cell_type": "markdown",
   "id": "0e782471-e0ab-4315-982e-98611fe0799d",
   "metadata": {},
   "source": []
  },
  {
   "cell_type": "markdown",
   "id": "baac221f-5ac0-425d-919f-a698060a1fb8",
   "metadata": {},
   "source": []
  },
  {
   "cell_type": "markdown",
   "id": "1ba602e0-1609-414a-a895-621dfd7ebb34",
   "metadata": {},
   "source": []
  },
  {
   "cell_type": "markdown",
   "id": "bc7e3657-0b98-4cf4-af99-e4f38a4b5e2f",
   "metadata": {},
   "source": []
  },
  {
   "cell_type": "markdown",
   "id": "cfab2194-cfd9-49be-b2ff-5fac5647b28b",
   "metadata": {},
   "source": []
  },
  {
   "cell_type": "markdown",
   "id": "0a88ea0a-b736-4ee0-85db-039987527e81",
   "metadata": {},
   "source": []
  },
  {
   "cell_type": "markdown",
   "id": "f2364960-5f2b-4883-ac8b-9650280e7af9",
   "metadata": {},
   "source": []
  },
  {
   "cell_type": "markdown",
   "id": "133d1880-2378-43d5-b1c5-8f4c709f6b59",
   "metadata": {},
   "source": []
  },
  {
   "cell_type": "markdown",
   "id": "5037f356-0f1b-47e8-8c9c-267a8dcd6d0b",
   "metadata": {},
   "source": []
  },
  {
   "cell_type": "markdown",
   "id": "423fe411-6db8-4a37-ba8b-2194d6e5e5ab",
   "metadata": {},
   "source": []
  },
  {
   "cell_type": "markdown",
   "id": "7b0df6e0-9f7c-4a30-a43d-7644d9a1150a",
   "metadata": {},
   "source": []
  },
  {
   "cell_type": "markdown",
   "id": "2bc04fc7-8a35-49bf-86fc-bd2dea9b5c20",
   "metadata": {},
   "source": []
  },
  {
   "cell_type": "markdown",
   "id": "fb6e84ec-39b0-4fba-a3b2-5a14dbdb9a60",
   "metadata": {},
   "source": []
  },
  {
   "cell_type": "markdown",
   "id": "e736ee7f-8163-4e26-8ca6-81838aebddd4",
   "metadata": {},
   "source": []
  },
  {
   "cell_type": "markdown",
   "id": "c81aa3e6-a2a7-4587-b5a3-e237bc15877d",
   "metadata": {},
   "source": []
  },
  {
   "cell_type": "markdown",
   "id": "1a56541a-992f-487a-9fb6-a324ca896911",
   "metadata": {},
   "source": []
  },
  {
   "cell_type": "markdown",
   "id": "22658503-0db2-4089-83be-8579270a213b",
   "metadata": {},
   "source": []
  },
  {
   "cell_type": "markdown",
   "id": "acea047c-c256-486b-9e4b-bfc5a2310d8f",
   "metadata": {},
   "source": []
  },
  {
   "cell_type": "markdown",
   "id": "a62bb44b-f333-41e5-9a59-0140be0bad74",
   "metadata": {},
   "source": []
  },
  {
   "cell_type": "markdown",
   "id": "3a9ae60f-fda4-45a0-b298-27540085060b",
   "metadata": {},
   "source": []
  },
  {
   "cell_type": "markdown",
   "id": "eee6caf7-dc11-4f5d-9939-a57242dfcbd5",
   "metadata": {},
   "source": []
  },
  {
   "cell_type": "markdown",
   "id": "c6c675f1-16c7-4297-8f2e-74e434ccfd88",
   "metadata": {},
   "source": []
  },
  {
   "cell_type": "markdown",
   "id": "011e3bd8-69d3-490b-9ef8-f396c3611c96",
   "metadata": {},
   "source": []
  },
  {
   "cell_type": "markdown",
   "id": "c824edc1-d6e5-4bd7-acee-03a5a3fedde3",
   "metadata": {},
   "source": []
  },
  {
   "cell_type": "markdown",
   "id": "8a42fbfe-9df1-448c-8912-3c5235de28b5",
   "metadata": {},
   "source": []
  },
  {
   "cell_type": "markdown",
   "id": "421bc76f-5359-4ed5-8a59-9e26a58dd93d",
   "metadata": {},
   "source": []
  },
  {
   "cell_type": "markdown",
   "id": "7a719f91-4140-4836-8a3f-5f4c27cf7715",
   "metadata": {},
   "source": []
  },
  {
   "cell_type": "markdown",
   "id": "0a797783-fb00-4b4f-9581-976b39af9405",
   "metadata": {},
   "source": []
  },
  {
   "cell_type": "markdown",
   "id": "28630784-2085-4913-b642-30e75e9072e8",
   "metadata": {},
   "source": []
  },
  {
   "cell_type": "markdown",
   "id": "edfc4d7e-f320-4a51-ba11-3555400c01b1",
   "metadata": {},
   "source": []
  },
  {
   "cell_type": "markdown",
   "id": "d6e4f97c-79ad-441a-935e-b1730a33db9c",
   "metadata": {},
   "source": []
  },
  {
   "cell_type": "markdown",
   "id": "ca3e9f21-8879-4f04-9072-45624f7f996d",
   "metadata": {},
   "source": []
  },
  {
   "cell_type": "markdown",
   "id": "cd0b26eb-0ef7-4db7-a697-0e8de5435604",
   "metadata": {},
   "source": []
  },
  {
   "cell_type": "markdown",
   "id": "ce4362e8-d0be-4514-8bf6-78bf87e6600d",
   "metadata": {},
   "source": []
  },
  {
   "cell_type": "markdown",
   "id": "c447587d-9deb-4156-9f34-b807b3d62072",
   "metadata": {},
   "source": []
  },
  {
   "cell_type": "markdown",
   "id": "d7a2ec14-efd3-48d6-9feb-78f7ce71397d",
   "metadata": {},
   "source": []
  },
  {
   "cell_type": "markdown",
   "id": "55398104-f858-4914-812e-53439d0a5c68",
   "metadata": {},
   "source": []
  },
  {
   "cell_type": "markdown",
   "id": "dd23f176-dd6b-433f-8b3c-b3e3f9c353bf",
   "metadata": {},
   "source": []
  },
  {
   "cell_type": "markdown",
   "id": "2b5068ef-f786-4351-a42e-2d93bc2b1458",
   "metadata": {},
   "source": []
  },
  {
   "cell_type": "markdown",
   "id": "48e25d70-ebfb-445a-a092-3f58326c69b0",
   "metadata": {},
   "source": []
  },
  {
   "cell_type": "markdown",
   "id": "f63e24fd-59c8-4075-bfc9-0b0582e97868",
   "metadata": {},
   "source": []
  },
  {
   "cell_type": "markdown",
   "id": "5396ea42-d47c-42f4-892a-69cbc57d333b",
   "metadata": {},
   "source": []
  },
  {
   "cell_type": "markdown",
   "id": "f12eb04e-b7e2-41cd-bd12-9da051e55e03",
   "metadata": {},
   "source": []
  },
  {
   "cell_type": "markdown",
   "id": "a571ec03-b2db-4ba0-9c98-cbb76595bd61",
   "metadata": {},
   "source": []
  },
  {
   "cell_type": "markdown",
   "id": "c5dacf67-7f12-4785-85f0-8c233913163e",
   "metadata": {},
   "source": []
  },
  {
   "cell_type": "markdown",
   "id": "d4c6180e-29e9-46ac-b630-5549e8069d51",
   "metadata": {},
   "source": []
  },
  {
   "cell_type": "markdown",
   "id": "d7e8387e-70f6-48ef-9b55-465b73159057",
   "metadata": {},
   "source": []
  },
  {
   "cell_type": "markdown",
   "id": "15576c4d-9dcb-4087-aa91-85a71d92b9cf",
   "metadata": {},
   "source": []
  },
  {
   "cell_type": "markdown",
   "id": "4746ed74-ab45-41e5-8e9f-de266b77b8da",
   "metadata": {},
   "source": []
  },
  {
   "cell_type": "markdown",
   "id": "cf43a904-14c9-446e-a4da-20498a4c8fd9",
   "metadata": {},
   "source": []
  },
  {
   "cell_type": "markdown",
   "id": "050afe9f-e3f0-4e57-8010-193ada6cde58",
   "metadata": {},
   "source": []
  },
  {
   "cell_type": "markdown",
   "id": "f690efe5-e7c2-466d-a5a5-c2cf11256b49",
   "metadata": {},
   "source": []
  },
  {
   "cell_type": "markdown",
   "id": "57e4e1d1-c3f0-4730-90e5-c12c8e4257ce",
   "metadata": {},
   "source": []
  },
  {
   "cell_type": "markdown",
   "id": "8b762304-a24b-429f-b535-dfdaa666382d",
   "metadata": {},
   "source": []
  },
  {
   "cell_type": "markdown",
   "id": "fde2c9b3-f527-4236-89ea-1f2a886544f4",
   "metadata": {},
   "source": []
  },
  {
   "cell_type": "markdown",
   "id": "a199fd58-62d1-4101-a842-19b44392da70",
   "metadata": {},
   "source": []
  },
  {
   "cell_type": "markdown",
   "id": "ef9802b8-bb2e-470b-81ec-d7986be70023",
   "metadata": {},
   "source": []
  }
 ],
 "metadata": {
  "kernelspec": {
   "display_name": "venv3.11",
   "language": "python",
   "name": "venv3.11"
  },
  "language_info": {
   "codemirror_mode": {
    "name": "ipython",
    "version": 3
   },
   "file_extension": ".py",
   "mimetype": "text/x-python",
   "name": "python",
   "nbconvert_exporter": "python",
   "pygments_lexer": "ipython3",
   "version": "3.11.2"
  }
 },
 "nbformat": 4,
 "nbformat_minor": 5
}
