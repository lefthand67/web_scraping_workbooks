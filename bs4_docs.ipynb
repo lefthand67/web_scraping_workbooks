{
 "cells": [
  {
   "cell_type": "markdown",
   "id": "98a8c550-a78f-4b26-aa5c-25d551b81060",
   "metadata": {},
   "source": [
    "# BEAUTIFUL SOUP [API](https://beautiful-soup-4.readthedocs.io/en/latest/)"
   ]
  },
  {
   "cell_type": "markdown",
   "id": "fc572838-df1e-4b5f-9e22-f51e339dec10",
   "metadata": {},
   "source": [
    "# Kinds of filters"
   ]
  },
  {
   "cell_type": "markdown",
   "id": "8e0c672a-8c50-4a96-acc1-fa4d281581d9",
   "metadata": {},
   "source": [
    "## Searching by CSS class"
   ]
  },
  {
   "cell_type": "markdown",
   "id": "1cd69fd4-ac88-4015-935f-c0f034a0a947",
   "metadata": {},
   "source": [
    "It’s very useful to search for a tag that has a certain CSS class, but the name of the CSS attribute, “class”, is a reserved word in Python. Using class as a keyword argument will give you a syntax error. As of Beautiful Soup 4.1.2, you can search by CSS class using the keyword argument `class_`:\n",
    "\n",
    "```python\n",
    "soup.find_all(\"a\", class_=\"sister\")\n",
    "# [<a class=\"sister\" href=\"http://example.com/elsie\" id=\"link1\">Elsie</a>,\n",
    "#  <a class=\"sister\" href=\"http://example.com/lacie\" id=\"link2\">Lacie</a>,\n",
    "#  <a class=\"sister\" href=\"http://example.com/tillie\" id=\"link3\">Tillie</a>]\n",
    "```\n",
    "\n",
    "As with any keyword argument, you can pass `class_` \n",
    "- a string, \n",
    "- a regular expression, \n",
    "- a function, or \n",
    "- True:\n",
    "\n",
    "```python\n",
    "soup.find_all(class_=re.compile(\"itl\"))\n",
    "# [<p class=\"title\"><b>The Dormouse's story</b></p>]\n",
    "\n",
    "def has_six_characters(css_class):\n",
    "    return css_class is not None and len(css_class) == 6\n",
    "\n",
    "soup.find_all(class_=has_six_characters)\n",
    "# [<a class=\"sister\" href=\"http://example.com/elsie\" id=\"link1\">Elsie</a>,\n",
    "#  <a class=\"sister\" href=\"http://example.com/lacie\" id=\"link2\">Lacie</a>,\n",
    "#  <a class=\"sister\" href=\"http://example.com/tillie\" id=\"link3\">Tillie</a>]\n",
    "```\n",
    "***\n",
    "_ChatGPT:_  \n",
    "In the code you provided, you are using the `find_all` method of BeautifulSoup to find all HTML elements that match a certain condition based on their **class attribute**. The `class_` parameter is used to filter elements based on their class attribute. In the first example, you are using a regular expression to find elements whose class attribute contains the substring \"`itl`\".\n",
    "\n",
    "In the second example, you define a custom function `has_six_characters` which takes a `css_class` argument and returns `True` if the length of the class attribute is `6` and it is not `None`. Then, you pass this function as the `class_` parameter to `find_all`, effectively using it as a filter function.\n",
    "\n",
    "Now, let's address your question about why you don't pass any arguments into `class_=has_six_characters`. When you pass a function as the value of `class_ parameter` in BeautifulSoup, it internally calls that function for each element's class attribute in the HTML document. It automatically passes the class attribute of each element as an argument to the function. In your case, `has_six_characters` is a function that takes a single argument (`css_class`), but you don't need to explicitly pass that argument when using it with `find_all`.\n",
    "\n",
    "The `find_all` method takes care of calling your function with the appropriate arguments (in this case, the class attribute of each HTML element). The result is a filtered list of elements whose class attribute satisfies the condition specified in your custom function.\n",
    "\n",
    "If you define a function with two arguments and you want to use it as a filter function with BeautifulSoup's `find_all` method, the function should still only take one argument, which will be automatically supplied by BeautifulSoup.\n",
    "\n",
    "For example, consider a function with two arguments:\n",
    "\n",
    "```python\n",
    "def has_specific_class(css_class, target_class):\n",
    "    return css_class is not None and target_class in css_class\n",
    "```\n",
    "\n",
    "If you want to use this function with `find_all`, you should only include the function name (`has_specific_class`) in the `class_` parameter, and BeautifulSoup will automatically pass the class attribute as the first argument. The second argument (`target_class` in this example) needs to be fixed when calling find_all:\n",
    "\n",
    "```python\n",
    "target_class = \"example_class\"\n",
    "soup.find_all(class_=lambda css_class: has_specific_class(css_class, target_class))\n",
    "```\n",
    "\n",
    "In this example, `lambda css_class: has_specific_class(css_class, target_class)` is an anonymous function (lambda function) that takes one argument (the class attribute) and passes it to the `has_specific_class` function along with the fixed `target_class`. This way, `find_all` can still use the function as a filter for elements based on their class attributes.\n",
    "***\n",
    "\n",
    "Remember that a single tag can have multiple values for its “class” attribute. When you search for a tag that matches a certain CSS class, you’re matching against any of its CSS classes:"
   ]
  },
  {
   "cell_type": "code",
   "execution_count": 3,
   "id": "59aaf910-15d0-467e-bc6d-e5f5c9fdc3a1",
   "metadata": {
    "execution": {
     "iopub.execute_input": "2024-01-30T21:01:16.956513Z",
     "iopub.status.busy": "2024-01-30T21:01:16.955773Z",
     "iopub.status.idle": "2024-01-30T21:01:16.965479Z",
     "shell.execute_reply": "2024-01-30T21:01:16.962971Z",
     "shell.execute_reply.started": "2024-01-30T21:01:16.956425Z"
    },
    "tags": []
   },
   "outputs": [],
   "source": [
    "from bs4 import BeautifulSoup\n",
    "\n",
    "css_soup = BeautifulSoup('<p class=\"body strikeout\"></p>')"
   ]
  },
  {
   "cell_type": "code",
   "execution_count": 4,
   "id": "2b5adb37-6841-44f7-b0de-19966198ae89",
   "metadata": {
    "execution": {
     "iopub.execute_input": "2024-01-30T21:01:19.388845Z",
     "iopub.status.busy": "2024-01-30T21:01:19.387097Z",
     "iopub.status.idle": "2024-01-30T21:01:19.405870Z",
     "shell.execute_reply": "2024-01-30T21:01:19.403718Z",
     "shell.execute_reply.started": "2024-01-30T21:01:19.388731Z"
    },
    "tags": []
   },
   "outputs": [
    {
     "data": {
      "text/plain": [
       "[<p class=\"body strikeout\"></p>]"
      ]
     },
     "execution_count": 4,
     "metadata": {},
     "output_type": "execute_result"
    }
   ],
   "source": [
    "css_soup.find_all(\"p\", class_=\"strikeout\")"
   ]
  },
  {
   "cell_type": "code",
   "execution_count": 2,
   "id": "067e418e-1265-419a-8abe-12cc3e0a07f9",
   "metadata": {
    "execution": {
     "iopub.execute_input": "2024-01-30T21:01:09.125846Z",
     "iopub.status.busy": "2024-01-30T21:01:09.125267Z",
     "iopub.status.idle": "2024-01-30T21:01:09.134547Z",
     "shell.execute_reply": "2024-01-30T21:01:09.133210Z",
     "shell.execute_reply.started": "2024-01-30T21:01:09.125798Z"
    },
    "tags": []
   },
   "outputs": [
    {
     "data": {
      "text/plain": [
       "[<p class=\"body strikeout\"></p>]"
      ]
     },
     "execution_count": 2,
     "metadata": {},
     "output_type": "execute_result"
    }
   ],
   "source": [
    "css_soup.find_all(\"p\", class_=\"body\")"
   ]
  },
  {
   "cell_type": "markdown",
   "id": "7d2f6802-133f-4503-b7ce-60d153aa5a73",
   "metadata": {},
   "source": [
    "You can also search for the exact string value of the class attribute:"
   ]
  },
  {
   "cell_type": "code",
   "execution_count": 5,
   "id": "3e83ee05-d651-4178-aaf2-ca0ce6753eee",
   "metadata": {
    "execution": {
     "iopub.execute_input": "2024-01-30T21:01:48.327719Z",
     "iopub.status.busy": "2024-01-30T21:01:48.326786Z",
     "iopub.status.idle": "2024-01-30T21:01:48.343256Z",
     "shell.execute_reply": "2024-01-30T21:01:48.341469Z",
     "shell.execute_reply.started": "2024-01-30T21:01:48.327629Z"
    },
    "tags": []
   },
   "outputs": [
    {
     "data": {
      "text/plain": [
       "[<p class=\"body strikeout\"></p>]"
      ]
     },
     "execution_count": 5,
     "metadata": {},
     "output_type": "execute_result"
    }
   ],
   "source": [
    "css_soup.find_all(\"p\", class_=\"body strikeout\")"
   ]
  },
  {
   "cell_type": "markdown",
   "id": "d6110a3d-d87d-4570-a61c-92b560b167a2",
   "metadata": {},
   "source": [
    "But searching for variants of the string value won’t work:"
   ]
  },
  {
   "cell_type": "code",
   "execution_count": 6,
   "id": "37aa7444-04e9-4b1b-b536-3426b5babacd",
   "metadata": {
    "execution": {
     "iopub.execute_input": "2024-01-30T21:02:05.717104Z",
     "iopub.status.busy": "2024-01-30T21:02:05.716630Z",
     "iopub.status.idle": "2024-01-30T21:02:05.729441Z",
     "shell.execute_reply": "2024-01-30T21:02:05.728108Z",
     "shell.execute_reply.started": "2024-01-30T21:02:05.717057Z"
    },
    "tags": []
   },
   "outputs": [
    {
     "data": {
      "text/plain": [
       "[]"
      ]
     },
     "execution_count": 6,
     "metadata": {},
     "output_type": "execute_result"
    }
   ],
   "source": [
    "css_soup.find_all(\"p\", class_=\"strikeout body\")"
   ]
  },
  {
   "cell_type": "markdown",
   "id": "1a7f46af-a23e-4d17-957f-774dc07c7c3d",
   "metadata": {},
   "source": [
    "If you want to search for tags that match two or more CSS classes, you should use a CSS selector:"
   ]
  },
  {
   "cell_type": "code",
   "execution_count": 7,
   "id": "52d21b24-93a8-4cef-8c1f-99f27f9f966c",
   "metadata": {
    "execution": {
     "iopub.execute_input": "2024-01-30T21:02:37.214689Z",
     "iopub.status.busy": "2024-01-30T21:02:37.213858Z",
     "iopub.status.idle": "2024-01-30T21:02:37.223670Z",
     "shell.execute_reply": "2024-01-30T21:02:37.220735Z",
     "shell.execute_reply.started": "2024-01-30T21:02:37.214653Z"
    },
    "tags": []
   },
   "outputs": [
    {
     "data": {
      "text/plain": [
       "[<p class=\"body strikeout\"></p>]"
      ]
     },
     "execution_count": 7,
     "metadata": {},
     "output_type": "execute_result"
    }
   ],
   "source": [
    "css_soup.select(\"p.strikeout.body\")"
   ]
  },
  {
   "cell_type": "markdown",
   "id": "6f017fda-bfe1-4edb-954d-fc2047ba2df7",
   "metadata": {},
   "source": [
    "In older versions of Beautiful Soup, which don’t have the `class_` shortcut, you can use the `attrs` trick mentioned above. Create a dictionary whose value for “class” is the string (or regular expression, or whatever) you want to search for:\n",
    "\n",
    "```python\n",
    "soup.find_all(\"a\", attrs={\"class\": \"sister\"})\n",
    "# [<a class=\"sister\" href=\"http://example.com/elsie\" id=\"link1\">Elsie</a>,\n",
    "#  <a class=\"sister\" href=\"http://example.com/lacie\" id=\"link2\">Lacie</a>,\n",
    "#  <a class=\"sister\" href=\"http://example.com/tillie\" id=\"link3\">Tillie</a>]\n",
    "```"
   ]
  },
  {
   "cell_type": "markdown",
   "id": "89f422f2-d25e-4425-a46f-5704acac489a",
   "metadata": {},
   "source": []
  },
  {
   "cell_type": "markdown",
   "id": "825cc1f7-40e6-42e8-b560-58066a1a7b20",
   "metadata": {},
   "source": []
  },
  {
   "cell_type": "markdown",
   "id": "365ffd12-a373-4852-8dc9-59e2b73ae25c",
   "metadata": {},
   "source": []
  },
  {
   "cell_type": "markdown",
   "id": "443877e1-cb95-497f-a16d-d8d0459ab053",
   "metadata": {},
   "source": []
  },
  {
   "cell_type": "markdown",
   "id": "f9e9150c-29fe-474a-ad01-9f227ef5873f",
   "metadata": {},
   "source": []
  },
  {
   "cell_type": "markdown",
   "id": "93f6b0ed-08fd-4b23-9402-314291ca4cfa",
   "metadata": {},
   "source": []
  },
  {
   "cell_type": "markdown",
   "id": "38902da1-f658-44b7-bb65-5c013f14b5fd",
   "metadata": {},
   "source": []
  },
  {
   "cell_type": "markdown",
   "id": "403bd429-7a23-44dd-b893-1083cfe6b426",
   "metadata": {},
   "source": []
  },
  {
   "cell_type": "markdown",
   "id": "ffcc7b7b-bf0f-42f3-bd56-6c28d98f7fca",
   "metadata": {},
   "source": []
  },
  {
   "cell_type": "markdown",
   "id": "96a9a255-b4f2-40f5-81e6-b178b8779c95",
   "metadata": {},
   "source": []
  },
  {
   "cell_type": "markdown",
   "id": "00daffb0-e2b4-40f1-843e-1bd0c35ee469",
   "metadata": {},
   "source": []
  },
  {
   "cell_type": "markdown",
   "id": "5f7cece5-33c0-421e-95da-e9ede7e59704",
   "metadata": {},
   "source": []
  },
  {
   "cell_type": "markdown",
   "id": "e4ec318a-c04c-411b-ba64-62abd13acb90",
   "metadata": {},
   "source": []
  },
  {
   "cell_type": "markdown",
   "id": "e00f5749-4dfa-4c9c-bc5c-685dca0142bb",
   "metadata": {},
   "source": []
  },
  {
   "cell_type": "markdown",
   "id": "2e3b9524-baa3-4d91-9ab7-4257ab782182",
   "metadata": {},
   "source": []
  },
  {
   "cell_type": "markdown",
   "id": "00292dbf-63bf-4098-86e9-8b5fd85486b7",
   "metadata": {},
   "source": []
  },
  {
   "cell_type": "markdown",
   "id": "cc26097f-41e2-4686-ae52-1870d634a436",
   "metadata": {},
   "source": []
  },
  {
   "cell_type": "markdown",
   "id": "b83ab147-f50c-43db-ba10-2103b12a3f44",
   "metadata": {},
   "source": []
  },
  {
   "cell_type": "markdown",
   "id": "bbe7b162-b59b-4bb8-82cd-998885f43030",
   "metadata": {},
   "source": []
  },
  {
   "cell_type": "markdown",
   "id": "2b320ebb-0b3e-4dfa-a7c7-0c33f4bb3a66",
   "metadata": {},
   "source": []
  },
  {
   "cell_type": "markdown",
   "id": "bc6dc4bc-61f6-4995-a86f-02d6821cd24e",
   "metadata": {},
   "source": []
  },
  {
   "cell_type": "markdown",
   "id": "2efaab2c-efc5-42f7-95a8-8420a0fb5f9b",
   "metadata": {},
   "source": []
  },
  {
   "cell_type": "markdown",
   "id": "d0020599-e147-4178-a998-2db2f4857a9e",
   "metadata": {},
   "source": []
  },
  {
   "cell_type": "markdown",
   "id": "a749a7a1-0b05-40f2-9f4a-796c499f1184",
   "metadata": {},
   "source": []
  },
  {
   "cell_type": "markdown",
   "id": "f7447a86-c606-45a6-8e62-0aa1be2f2c75",
   "metadata": {},
   "source": []
  },
  {
   "cell_type": "markdown",
   "id": "6a795fc8-dc66-49c0-9962-3ee8ea81d404",
   "metadata": {},
   "source": []
  },
  {
   "cell_type": "markdown",
   "id": "9414f4c6-f4ef-4b12-baae-66f4a19309a3",
   "metadata": {},
   "source": []
  },
  {
   "cell_type": "markdown",
   "id": "d5bd24fe-a5b9-463e-b234-eb0cee6db424",
   "metadata": {},
   "source": []
  },
  {
   "cell_type": "markdown",
   "id": "7eca7d7f-6890-4be8-bbca-5314c43397a8",
   "metadata": {},
   "source": []
  },
  {
   "cell_type": "markdown",
   "id": "c6cd3037-075a-4b63-9ba9-344c05ae6737",
   "metadata": {},
   "source": []
  },
  {
   "cell_type": "markdown",
   "id": "af80b0b3-47fe-4f9f-9456-48a47c10adf3",
   "metadata": {},
   "source": []
  },
  {
   "cell_type": "markdown",
   "id": "2410dac5-f7c8-43d6-b0c4-6d70efd1c22a",
   "metadata": {},
   "source": []
  },
  {
   "cell_type": "markdown",
   "id": "17d20034-7924-4234-83b7-f2e762a51510",
   "metadata": {},
   "source": []
  },
  {
   "cell_type": "markdown",
   "id": "379307eb-b9c2-4973-884e-b28afc3ed964",
   "metadata": {},
   "source": []
  },
  {
   "cell_type": "markdown",
   "id": "94220173-dd4a-462e-936c-920164af4edd",
   "metadata": {},
   "source": []
  },
  {
   "cell_type": "markdown",
   "id": "ee9d9cab-ecf7-4855-868f-e935a3fc26da",
   "metadata": {},
   "source": []
  },
  {
   "cell_type": "markdown",
   "id": "a9af9f4f-f633-4766-a2e3-e5234d7501b3",
   "metadata": {},
   "source": []
  },
  {
   "cell_type": "markdown",
   "id": "9d992b74-ec88-43c0-bc88-f86b06e27143",
   "metadata": {},
   "source": []
  },
  {
   "cell_type": "markdown",
   "id": "49c88e7f-b2ec-481a-b54a-4a8a3a9ce779",
   "metadata": {},
   "source": []
  },
  {
   "cell_type": "markdown",
   "id": "6f682a3c-0fac-4a53-af93-352b31bca919",
   "metadata": {},
   "source": []
  },
  {
   "cell_type": "markdown",
   "id": "a362957b-a442-4057-9678-4b9af01250fb",
   "metadata": {},
   "source": []
  },
  {
   "cell_type": "markdown",
   "id": "75f8377e-34f4-484a-846b-827f82f5b84e",
   "metadata": {},
   "source": []
  },
  {
   "cell_type": "markdown",
   "id": "d51d1b09-952f-40a5-85a4-7dc3bb561718",
   "metadata": {},
   "source": []
  },
  {
   "cell_type": "markdown",
   "id": "40511770-07e5-4e83-a7aa-61ed77df2de1",
   "metadata": {},
   "source": []
  },
  {
   "cell_type": "markdown",
   "id": "74714826-7a0c-4bad-b6c4-9845fd7ea747",
   "metadata": {},
   "source": []
  },
  {
   "cell_type": "markdown",
   "id": "e6351fa4-9724-4cce-b0ba-5dafffdb60dd",
   "metadata": {},
   "source": []
  },
  {
   "cell_type": "markdown",
   "id": "e8f308f1-dcd9-49f6-b696-2d3b6f0154e1",
   "metadata": {},
   "source": []
  },
  {
   "cell_type": "markdown",
   "id": "491ab174-b28d-4c35-9e32-edcb2f452f98",
   "metadata": {},
   "source": []
  },
  {
   "cell_type": "markdown",
   "id": "0647cf9a-6d59-4a3d-8819-4ed00f58c364",
   "metadata": {},
   "source": []
  },
  {
   "cell_type": "markdown",
   "id": "734e149e-50e0-4293-a02b-4504daff2ef5",
   "metadata": {},
   "source": []
  },
  {
   "cell_type": "markdown",
   "id": "d299abaa-9e10-4108-b6e6-866265b24cc7",
   "metadata": {},
   "source": []
  },
  {
   "cell_type": "markdown",
   "id": "a1a34b4c-d011-4d5e-bda7-7dbf48b847a0",
   "metadata": {},
   "source": []
  },
  {
   "cell_type": "markdown",
   "id": "33a8a846-a151-4059-bc55-044094f30259",
   "metadata": {},
   "source": []
  },
  {
   "cell_type": "markdown",
   "id": "566d9a40-5e10-4c84-adaa-02f95620f3e1",
   "metadata": {},
   "source": []
  },
  {
   "cell_type": "markdown",
   "id": "1b2d3b2a-635a-406e-b9af-898118a47235",
   "metadata": {},
   "source": []
  },
  {
   "cell_type": "markdown",
   "id": "598f3936-6e96-418c-a8ac-d31711862b24",
   "metadata": {},
   "source": []
  },
  {
   "cell_type": "markdown",
   "id": "45fac3fb-288e-4d1f-bb8c-ab5ad49c9b4a",
   "metadata": {},
   "source": []
  },
  {
   "cell_type": "markdown",
   "id": "7e270f78-e81e-4ae6-a1d6-0b3eca89b785",
   "metadata": {},
   "source": []
  },
  {
   "cell_type": "markdown",
   "id": "e90c7173-e9b9-45d0-b365-826af6a13ca0",
   "metadata": {},
   "source": []
  },
  {
   "cell_type": "markdown",
   "id": "4fdd1a1c-37e2-4d8b-8d57-f3f9b435528b",
   "metadata": {},
   "source": []
  },
  {
   "cell_type": "markdown",
   "id": "90e9a712-43a2-4a5f-b72f-6502e69eadfc",
   "metadata": {},
   "source": []
  },
  {
   "cell_type": "markdown",
   "id": "41f3f1d1-1efc-4d84-b174-65e111f06639",
   "metadata": {},
   "source": []
  },
  {
   "cell_type": "markdown",
   "id": "279d85c7-2e30-4230-8d3c-d2350c07ef53",
   "metadata": {},
   "source": []
  },
  {
   "cell_type": "markdown",
   "id": "f10a5963-ecec-4b98-a6cc-8aa124668658",
   "metadata": {},
   "source": []
  },
  {
   "cell_type": "markdown",
   "id": "2768ee24-1eba-496b-9e14-545e44064e53",
   "metadata": {},
   "source": []
  },
  {
   "cell_type": "markdown",
   "id": "5393426c-1ddf-46ee-9012-f24330bb994d",
   "metadata": {},
   "source": []
  },
  {
   "cell_type": "markdown",
   "id": "083c8945-6f0a-4d00-b04c-728a840b5f2d",
   "metadata": {},
   "source": []
  },
  {
   "cell_type": "markdown",
   "id": "8cb60fb5-dbfd-4785-9189-5e8c7013378e",
   "metadata": {},
   "source": []
  },
  {
   "cell_type": "markdown",
   "id": "1e1a3e15-e3fa-49c8-9c7f-930eda0c7723",
   "metadata": {},
   "source": []
  },
  {
   "cell_type": "markdown",
   "id": "1b0ab87c-e1a5-48d9-9b78-7de14857cc2f",
   "metadata": {},
   "source": []
  },
  {
   "cell_type": "markdown",
   "id": "cb893120-3236-4fdf-9c19-b2864f73bfe5",
   "metadata": {},
   "source": []
  },
  {
   "cell_type": "markdown",
   "id": "210dc0e7-9f85-40c8-a4f7-71523a7b93b1",
   "metadata": {},
   "source": []
  },
  {
   "cell_type": "markdown",
   "id": "49cbda36-a63d-45b3-9f44-f980ed04b831",
   "metadata": {},
   "source": []
  },
  {
   "cell_type": "markdown",
   "id": "28d80394-ecbd-4f94-aa61-9156168aa7ef",
   "metadata": {},
   "source": []
  },
  {
   "cell_type": "markdown",
   "id": "1c561ee2-1d18-42a9-bc3a-f2bc591085e0",
   "metadata": {},
   "source": []
  },
  {
   "cell_type": "markdown",
   "id": "32fb60e7-285a-4a6c-b0af-c6e42eba3d2e",
   "metadata": {},
   "source": []
  },
  {
   "cell_type": "markdown",
   "id": "dac8327a-b2ac-4082-bd07-efd51ca3f2e2",
   "metadata": {},
   "source": []
  },
  {
   "cell_type": "markdown",
   "id": "c51b2897-0405-4226-8521-eec63ceec435",
   "metadata": {},
   "source": []
  },
  {
   "cell_type": "markdown",
   "id": "746c2230-e0dd-40c7-8ede-2d324c8a1f6a",
   "metadata": {},
   "source": []
  },
  {
   "cell_type": "markdown",
   "id": "fa4c6191-42a9-414e-8fef-f878ee4f1d88",
   "metadata": {},
   "source": []
  },
  {
   "cell_type": "markdown",
   "id": "65c2132e-4d20-4f25-9fbb-6245334871fb",
   "metadata": {},
   "source": []
  },
  {
   "cell_type": "markdown",
   "id": "9780e7e6-6822-45b2-9ae7-cdbeccd01f29",
   "metadata": {},
   "source": []
  },
  {
   "cell_type": "markdown",
   "id": "253707b3-5ea6-43ff-9b7e-2cb5b97be5f8",
   "metadata": {},
   "source": []
  },
  {
   "cell_type": "markdown",
   "id": "36886593-e62a-4fff-8a03-84ce65d53b6f",
   "metadata": {},
   "source": []
  },
  {
   "cell_type": "markdown",
   "id": "3cbf5b66-ce36-4dc2-9b44-730c4b923995",
   "metadata": {},
   "source": []
  },
  {
   "cell_type": "markdown",
   "id": "d85b6973-6f03-4e4a-a66e-e425957da840",
   "metadata": {},
   "source": []
  },
  {
   "cell_type": "markdown",
   "id": "31b8b775-1049-4a50-887a-e8f4c4ca0aa4",
   "metadata": {},
   "source": []
  },
  {
   "cell_type": "markdown",
   "id": "1dfaf2e6-9f8b-48e1-a11b-7a62505e5f98",
   "metadata": {},
   "source": []
  },
  {
   "cell_type": "markdown",
   "id": "a3280dc1-60e0-460c-8262-ffa3e9433bee",
   "metadata": {},
   "source": []
  },
  {
   "cell_type": "markdown",
   "id": "57d3ba73-1ba0-47dd-9ab8-5919c94f0437",
   "metadata": {},
   "source": []
  },
  {
   "cell_type": "markdown",
   "id": "4d9bbddc-ec5f-4b31-b13a-1fa97875e50e",
   "metadata": {},
   "source": []
  },
  {
   "cell_type": "markdown",
   "id": "c6205ec1-2f8c-4821-a4ab-838b40f9b8c2",
   "metadata": {},
   "source": []
  },
  {
   "cell_type": "markdown",
   "id": "dea7402b-e9f9-4076-800f-2f856f8724bc",
   "metadata": {},
   "source": []
  },
  {
   "cell_type": "markdown",
   "id": "99f13a0c-044f-4a8c-8ed3-6ac817be6fad",
   "metadata": {},
   "source": []
  },
  {
   "cell_type": "markdown",
   "id": "6ed71dbe-5530-4a56-84e6-1d1d13b4fb70",
   "metadata": {},
   "source": []
  },
  {
   "cell_type": "markdown",
   "id": "cb6f1731-cb91-45cb-93f5-993c73e1de80",
   "metadata": {},
   "source": []
  },
  {
   "cell_type": "markdown",
   "id": "4020f941-8e00-43ba-86a1-31ab9382382d",
   "metadata": {},
   "source": []
  },
  {
   "cell_type": "markdown",
   "id": "e0ad8791-1c35-4fba-bf9f-9da4dff19617",
   "metadata": {},
   "source": []
  },
  {
   "cell_type": "markdown",
   "id": "03a421bd-9ea1-47db-8aea-2313cae485c5",
   "metadata": {},
   "source": []
  },
  {
   "cell_type": "markdown",
   "id": "b28242ae-6c68-4aa1-8971-3747fdb87aa2",
   "metadata": {},
   "source": []
  },
  {
   "cell_type": "markdown",
   "id": "3da26cb6-4a90-4ad1-a711-0dbce44ecd96",
   "metadata": {},
   "source": []
  },
  {
   "cell_type": "markdown",
   "id": "45f9eb57-3c7b-472d-88b9-df3d5c7040e0",
   "metadata": {},
   "source": []
  },
  {
   "cell_type": "markdown",
   "id": "e8b72163-ee74-445d-a1ba-5be3bccd6f6f",
   "metadata": {},
   "source": []
  },
  {
   "cell_type": "markdown",
   "id": "62660452-274f-449b-90bf-78f31a4cf8f9",
   "metadata": {},
   "source": []
  },
  {
   "cell_type": "markdown",
   "id": "43e4ee69-4e48-43e3-9dcb-361ba77b13fc",
   "metadata": {},
   "source": []
  },
  {
   "cell_type": "markdown",
   "id": "1c7f604e-3dd4-4362-b952-eea50d9e14b4",
   "metadata": {},
   "source": []
  },
  {
   "cell_type": "markdown",
   "id": "83c3fe7d-92d8-4ae5-86f3-702871e888a6",
   "metadata": {},
   "source": []
  },
  {
   "cell_type": "markdown",
   "id": "d28040ed-8b1d-4a6c-b782-047394764e0f",
   "metadata": {},
   "source": []
  },
  {
   "cell_type": "markdown",
   "id": "777dadc4-457c-4692-aaa5-329c2c78529f",
   "metadata": {},
   "source": []
  },
  {
   "cell_type": "markdown",
   "id": "169dcffe-021f-471a-ac8f-1f7455555c19",
   "metadata": {},
   "source": []
  },
  {
   "cell_type": "markdown",
   "id": "c74abd01-8500-46ad-96d7-471a0900b3bd",
   "metadata": {},
   "source": []
  },
  {
   "cell_type": "markdown",
   "id": "571c0b68-7c24-4f88-afdd-e6062bf8afe0",
   "metadata": {},
   "source": []
  },
  {
   "cell_type": "markdown",
   "id": "6de2d287-6c8e-417a-b55a-1bce9a71f96f",
   "metadata": {},
   "source": []
  },
  {
   "cell_type": "markdown",
   "id": "669eca3f-1f09-4080-bfa2-f2e7a1041767",
   "metadata": {},
   "source": []
  },
  {
   "cell_type": "markdown",
   "id": "c0e30714-507d-410a-ae14-5df1cfd66f10",
   "metadata": {},
   "source": []
  },
  {
   "cell_type": "markdown",
   "id": "7d93350c-c34f-47cf-b9f9-39db7bab3336",
   "metadata": {},
   "source": []
  },
  {
   "cell_type": "markdown",
   "id": "5cf8cb80-2388-4720-9631-96f17829a256",
   "metadata": {},
   "source": []
  },
  {
   "cell_type": "markdown",
   "id": "e2adaada-9c06-4c24-9dac-b1934de4fde5",
   "metadata": {},
   "source": []
  },
  {
   "cell_type": "markdown",
   "id": "95c3e47a-32cd-47d9-854c-77a61e2c2aba",
   "metadata": {},
   "source": []
  },
  {
   "cell_type": "markdown",
   "id": "3b75275c-22f4-4694-bc29-848fb67848cd",
   "metadata": {},
   "source": []
  },
  {
   "cell_type": "markdown",
   "id": "d71c0a11-d560-4083-bf52-dc622e0493d1",
   "metadata": {},
   "source": []
  },
  {
   "cell_type": "markdown",
   "id": "77d866d7-e719-463a-9702-64ee57669981",
   "metadata": {},
   "source": []
  },
  {
   "cell_type": "markdown",
   "id": "a9808c8d-c18f-42e3-b2fe-00b7c0f3092b",
   "metadata": {},
   "source": []
  },
  {
   "cell_type": "markdown",
   "id": "2e410c4f-2a4b-4121-a47d-19cfdb34617c",
   "metadata": {},
   "source": []
  },
  {
   "cell_type": "markdown",
   "id": "6973127f-d81f-4913-8225-2e7463b9a7d6",
   "metadata": {},
   "source": []
  },
  {
   "cell_type": "markdown",
   "id": "c18a57ad-71de-4bd9-a797-9c3c924e3e70",
   "metadata": {},
   "source": []
  },
  {
   "cell_type": "markdown",
   "id": "699cd393-13b4-4c2b-ac1e-8e1b1a389aab",
   "metadata": {},
   "source": []
  },
  {
   "cell_type": "markdown",
   "id": "304e3ca9-7764-44eb-9ea5-2d654080f12f",
   "metadata": {},
   "source": []
  },
  {
   "cell_type": "markdown",
   "id": "fe53b607-8af5-4fbc-bd3c-ec6f340402f2",
   "metadata": {},
   "source": []
  },
  {
   "cell_type": "markdown",
   "id": "37a98030-e694-4c9b-99f6-0c98bb4c68ad",
   "metadata": {},
   "source": []
  },
  {
   "cell_type": "markdown",
   "id": "183e7a58-1d07-4f53-9db0-aa011f125516",
   "metadata": {},
   "source": []
  },
  {
   "cell_type": "markdown",
   "id": "482f6665-fd7f-4f06-bf94-f79d6e417dd0",
   "metadata": {},
   "source": []
  },
  {
   "cell_type": "markdown",
   "id": "91fab9b8-f54d-418b-bc11-812e8fea6114",
   "metadata": {},
   "source": []
  },
  {
   "cell_type": "markdown",
   "id": "84b55b9e-2ac1-44aa-9fc3-0c08421e10c0",
   "metadata": {},
   "source": []
  },
  {
   "cell_type": "markdown",
   "id": "ef8e85d1-847a-48b5-a694-4a2e801f0f57",
   "metadata": {},
   "source": []
  },
  {
   "cell_type": "markdown",
   "id": "e00a7cf4-9646-4b5b-9cb7-bd7b60ff70f6",
   "metadata": {},
   "source": []
  },
  {
   "cell_type": "markdown",
   "id": "812f43c7-bec3-4e9c-934e-f14d8a53c6de",
   "metadata": {},
   "source": []
  },
  {
   "cell_type": "markdown",
   "id": "3c998f53-9b6a-494c-8584-96bf283e7860",
   "metadata": {},
   "source": []
  },
  {
   "cell_type": "markdown",
   "id": "e4219a38-b950-4f7f-a1db-947b1ddc4e54",
   "metadata": {},
   "source": []
  },
  {
   "cell_type": "markdown",
   "id": "8ea91d0f-97cf-42ff-90a1-e26537a6a780",
   "metadata": {},
   "source": []
  },
  {
   "cell_type": "markdown",
   "id": "98bccc46-43d5-47b8-9648-50e1c4c75669",
   "metadata": {},
   "source": []
  },
  {
   "cell_type": "markdown",
   "id": "df650b1a-b1d5-4790-9493-8473a390cdb4",
   "metadata": {},
   "source": []
  },
  {
   "cell_type": "markdown",
   "id": "63fb3cb5-3389-410b-b972-266b74fa0ff1",
   "metadata": {},
   "source": []
  },
  {
   "cell_type": "markdown",
   "id": "00e881be-274f-414d-a61f-b65507ebd7e2",
   "metadata": {},
   "source": []
  },
  {
   "cell_type": "markdown",
   "id": "8942b0a2-3110-4615-8fcb-8622fc038663",
   "metadata": {},
   "source": []
  },
  {
   "cell_type": "markdown",
   "id": "fd652404-829c-459f-b722-940ea21da28d",
   "metadata": {},
   "source": []
  },
  {
   "cell_type": "markdown",
   "id": "f43e69bb-143e-4cc4-9aa2-f8ef6c733a4f",
   "metadata": {},
   "source": []
  },
  {
   "cell_type": "markdown",
   "id": "942e8938-7f38-46c9-9d04-ac1174051f90",
   "metadata": {},
   "source": []
  },
  {
   "cell_type": "markdown",
   "id": "0cade471-61d3-4714-be0f-0a6d574e146e",
   "metadata": {},
   "source": []
  },
  {
   "cell_type": "markdown",
   "id": "0084cced-e783-4f80-93f6-89e16f13577b",
   "metadata": {},
   "source": []
  },
  {
   "cell_type": "markdown",
   "id": "831719ab-956e-4f39-93b5-946d604e5e87",
   "metadata": {},
   "source": []
  },
  {
   "cell_type": "markdown",
   "id": "2d873f7b-8c52-4d85-8c35-64bd97fb1848",
   "metadata": {},
   "source": []
  },
  {
   "cell_type": "markdown",
   "id": "5faf0c1f-c217-45fd-b772-55de6243695e",
   "metadata": {},
   "source": []
  },
  {
   "cell_type": "markdown",
   "id": "0f9bb1a3-441f-4ae0-942a-b382a126cd99",
   "metadata": {},
   "source": []
  },
  {
   "cell_type": "markdown",
   "id": "0c009410-0dac-4f68-b701-daf8eb8a2aa7",
   "metadata": {},
   "source": []
  },
  {
   "cell_type": "markdown",
   "id": "1b411226-914e-42bb-9db9-3c32da647062",
   "metadata": {},
   "source": []
  },
  {
   "cell_type": "markdown",
   "id": "3fcb23ed-e956-4d39-b35f-977b2ac2d885",
   "metadata": {},
   "source": []
  },
  {
   "cell_type": "markdown",
   "id": "aa61c572-927c-423b-be40-0cac24102ede",
   "metadata": {},
   "source": []
  },
  {
   "cell_type": "markdown",
   "id": "3cfad2ac-7f20-4b7d-bc9a-8a18d33a71da",
   "metadata": {},
   "source": []
  },
  {
   "cell_type": "markdown",
   "id": "7c60433b-9654-4f96-ab13-177eaaa7fdad",
   "metadata": {},
   "source": []
  },
  {
   "cell_type": "markdown",
   "id": "f9cbd566-878b-437e-bd56-f3ebe65381e9",
   "metadata": {},
   "source": []
  },
  {
   "cell_type": "markdown",
   "id": "e4e18f0a-7d41-4c0e-b9e9-cd26115e7ff5",
   "metadata": {},
   "source": []
  },
  {
   "cell_type": "markdown",
   "id": "c4476bd6-030e-41d6-8fcd-b995a96b3009",
   "metadata": {},
   "source": []
  },
  {
   "cell_type": "markdown",
   "id": "78acebc1-1897-46c2-b2a9-ba599246c7a8",
   "metadata": {},
   "source": []
  },
  {
   "cell_type": "markdown",
   "id": "11eebe97-8e14-4aa7-99c6-f3e02c97213e",
   "metadata": {},
   "source": []
  },
  {
   "cell_type": "markdown",
   "id": "96e7d22a-cbc8-40a3-80a9-fb9bf1585c2f",
   "metadata": {},
   "source": []
  },
  {
   "cell_type": "markdown",
   "id": "a797409a-3cfc-4bd8-924c-060adea455a0",
   "metadata": {},
   "source": []
  },
  {
   "cell_type": "markdown",
   "id": "c728c2c7-80ad-4639-aa78-3455fadb05d4",
   "metadata": {},
   "source": []
  },
  {
   "cell_type": "markdown",
   "id": "a43efac0-695f-46ef-b435-eb83a1bde572",
   "metadata": {},
   "source": []
  },
  {
   "cell_type": "markdown",
   "id": "ffe67205-c95b-4416-9a58-07d22fb64cc7",
   "metadata": {},
   "source": []
  },
  {
   "cell_type": "markdown",
   "id": "b3c63a8a-0f48-49f1-9901-392c9e9acc80",
   "metadata": {},
   "source": []
  },
  {
   "cell_type": "markdown",
   "id": "59701090-61f1-4f0f-bf6d-5ad58a3a610e",
   "metadata": {},
   "source": []
  },
  {
   "cell_type": "markdown",
   "id": "78324bbf-e187-4ed3-b032-3d0cb6d6a53c",
   "metadata": {},
   "source": []
  },
  {
   "cell_type": "markdown",
   "id": "8f4954eb-2f99-40a9-8136-35ffbef30372",
   "metadata": {},
   "source": []
  },
  {
   "cell_type": "markdown",
   "id": "ebcd7f70-69ce-49d6-9dad-d335bdf0b739",
   "metadata": {},
   "source": []
  },
  {
   "cell_type": "markdown",
   "id": "1e2fabf8-bf53-44cd-a429-6fd9b5332382",
   "metadata": {},
   "source": []
  },
  {
   "cell_type": "markdown",
   "id": "43e07f58-f3ac-4bdc-9007-ca1b7de79f4e",
   "metadata": {},
   "source": []
  },
  {
   "cell_type": "markdown",
   "id": "5637eb7c-a9fc-4914-a7ab-96a2920a0fc6",
   "metadata": {},
   "source": []
  },
  {
   "cell_type": "markdown",
   "id": "22833543-4cda-44de-9d71-d127beabc789",
   "metadata": {},
   "source": []
  },
  {
   "cell_type": "markdown",
   "id": "9f8005c7-c4f9-40d5-8d17-edda610e8542",
   "metadata": {},
   "source": []
  },
  {
   "cell_type": "markdown",
   "id": "5a78065c-5e19-4d81-8bcc-0299ab37e51d",
   "metadata": {},
   "source": []
  },
  {
   "cell_type": "markdown",
   "id": "5cb5868e-b804-4671-9009-38ed7ab478e6",
   "metadata": {},
   "source": []
  },
  {
   "cell_type": "markdown",
   "id": "05eff80b-21ff-4df2-ad9b-565d4b9fa442",
   "metadata": {},
   "source": []
  },
  {
   "cell_type": "markdown",
   "id": "e21f2d92-fe65-4735-bc94-8afd85d4cb35",
   "metadata": {},
   "source": []
  },
  {
   "cell_type": "markdown",
   "id": "df1e43c2-7832-4831-ab43-c79968ce6f3e",
   "metadata": {},
   "source": []
  },
  {
   "cell_type": "markdown",
   "id": "33217f6e-f93d-4ef2-b94e-4551c3610641",
   "metadata": {},
   "source": []
  },
  {
   "cell_type": "markdown",
   "id": "985a014c-10d5-4e0b-a37b-502a65d327c7",
   "metadata": {},
   "source": []
  },
  {
   "cell_type": "markdown",
   "id": "bbd6b13a-ac2f-468f-9a53-5613089c5478",
   "metadata": {},
   "source": []
  },
  {
   "cell_type": "markdown",
   "id": "703d64ba-36c6-4b5b-b19f-db38fb3f7749",
   "metadata": {},
   "source": []
  },
  {
   "cell_type": "markdown",
   "id": "73961fb8-5fda-4a41-9c42-a74a579e5d32",
   "metadata": {},
   "source": []
  },
  {
   "cell_type": "markdown",
   "id": "c27bf6f7-3c86-434d-9dd2-47330c9d1f11",
   "metadata": {},
   "source": []
  },
  {
   "cell_type": "markdown",
   "id": "a95e961c-9a8c-4782-b587-fac3acf3d0b5",
   "metadata": {},
   "source": []
  },
  {
   "cell_type": "markdown",
   "id": "4219775a-3270-47f5-8de2-8b71f5df97b3",
   "metadata": {},
   "source": []
  },
  {
   "cell_type": "markdown",
   "id": "bea92a34-f703-41fc-8fb7-fe9188b9d274",
   "metadata": {},
   "source": []
  },
  {
   "cell_type": "markdown",
   "id": "0c75782c-73fc-4e6a-934e-5346527e25cf",
   "metadata": {},
   "source": []
  },
  {
   "cell_type": "markdown",
   "id": "711d57f2-5136-4343-954e-c6e0b730a839",
   "metadata": {},
   "source": []
  },
  {
   "cell_type": "markdown",
   "id": "d490a227-6edf-46fe-86e3-7338ed636beb",
   "metadata": {},
   "source": []
  },
  {
   "cell_type": "markdown",
   "id": "e410b99b-2601-4d2e-ba1e-a4038680dcd6",
   "metadata": {},
   "source": []
  },
  {
   "cell_type": "markdown",
   "id": "ecc2fa51-c3ed-4a3b-8a56-3466cfaccd4d",
   "metadata": {},
   "source": []
  },
  {
   "cell_type": "markdown",
   "id": "c76ed6d2-1de6-4aec-a2e2-89ef7ec167f7",
   "metadata": {},
   "source": []
  },
  {
   "cell_type": "markdown",
   "id": "acb5a777-ee8d-4776-a2e6-9079320ffbfa",
   "metadata": {},
   "source": []
  },
  {
   "cell_type": "markdown",
   "id": "e1fb127b-d811-4fd9-938a-6f63a05dfd7e",
   "metadata": {},
   "source": []
  },
  {
   "cell_type": "markdown",
   "id": "c338f1f2-eaeb-4418-93d4-ecf10496f700",
   "metadata": {},
   "source": []
  },
  {
   "cell_type": "markdown",
   "id": "d85a6d49-53f7-47d6-855f-5b7a6a2d30ef",
   "metadata": {},
   "source": []
  },
  {
   "cell_type": "markdown",
   "id": "cc886670-673f-4984-b0b2-02028e6d2d54",
   "metadata": {},
   "source": []
  },
  {
   "cell_type": "markdown",
   "id": "9b2b6a5a-eb76-4f7e-98d4-16880d8e7acd",
   "metadata": {},
   "source": []
  },
  {
   "cell_type": "markdown",
   "id": "63deb4b9-a647-4554-aa1a-8d617bce5ae6",
   "metadata": {},
   "source": []
  },
  {
   "cell_type": "markdown",
   "id": "b40b81ef-e72a-4337-a2ab-d9a348a3fcde",
   "metadata": {},
   "source": []
  },
  {
   "cell_type": "markdown",
   "id": "99dfbc56-9f9b-41e2-a5ff-79aae466f4a0",
   "metadata": {},
   "source": []
  },
  {
   "cell_type": "markdown",
   "id": "c3337577-e25a-4547-a512-0aacd583c171",
   "metadata": {},
   "source": []
  },
  {
   "cell_type": "markdown",
   "id": "9a561b3c-446b-4349-94a4-bd8beb3193b9",
   "metadata": {},
   "source": []
  },
  {
   "cell_type": "markdown",
   "id": "29aee494-af38-488f-95a9-38e59c866e82",
   "metadata": {},
   "source": []
  },
  {
   "cell_type": "markdown",
   "id": "146decf6-17a9-4d4f-866a-4b86b8d13e97",
   "metadata": {},
   "source": []
  },
  {
   "cell_type": "markdown",
   "id": "f5349c99-c3f2-420f-83a2-a679664da8ff",
   "metadata": {},
   "source": []
  },
  {
   "cell_type": "markdown",
   "id": "e053eeea-c923-4ff9-8e14-0e14a8782b4c",
   "metadata": {},
   "source": []
  },
  {
   "cell_type": "markdown",
   "id": "3e63bd1a-87d5-4562-8a2d-61eea3f051f1",
   "metadata": {},
   "source": []
  },
  {
   "cell_type": "markdown",
   "id": "3d4aff3d-6bb2-4435-9a0d-4d97b6f15ac7",
   "metadata": {},
   "source": []
  },
  {
   "cell_type": "markdown",
   "id": "252c4eb9-1512-4384-9b33-54258160d9a3",
   "metadata": {},
   "source": []
  },
  {
   "cell_type": "markdown",
   "id": "1d690670-26f6-4535-8268-1501a02700ca",
   "metadata": {},
   "source": []
  },
  {
   "cell_type": "markdown",
   "id": "12d99bb9-52cb-43c5-880b-b415d64ab356",
   "metadata": {},
   "source": []
  },
  {
   "cell_type": "markdown",
   "id": "a1f6290c-618e-4547-ac16-843191730b85",
   "metadata": {},
   "source": []
  },
  {
   "cell_type": "markdown",
   "id": "f1ef6901-7f49-4f25-a61e-699760a69202",
   "metadata": {},
   "source": []
  },
  {
   "cell_type": "markdown",
   "id": "a8ba05e4-c87f-4c8b-8789-4c85b01809e3",
   "metadata": {},
   "source": []
  },
  {
   "cell_type": "markdown",
   "id": "6889f58f-13c8-4f30-be0d-fcfae06d2172",
   "metadata": {},
   "source": []
  },
  {
   "cell_type": "markdown",
   "id": "2b789949-c66d-4228-b92f-f0b389d46fca",
   "metadata": {},
   "source": []
  },
  {
   "cell_type": "markdown",
   "id": "1233514b-17c0-45b3-9f70-28eaac0330a9",
   "metadata": {},
   "source": []
  },
  {
   "cell_type": "markdown",
   "id": "809af2ff-8b4d-4f8b-b6a4-79ef675ddc2d",
   "metadata": {},
   "source": []
  },
  {
   "cell_type": "markdown",
   "id": "7bdaddd9-281c-4d76-b139-7c8c8e460b9e",
   "metadata": {},
   "source": []
  },
  {
   "cell_type": "markdown",
   "id": "6e9c428a-972b-440d-b4d4-055ee6ff5f46",
   "metadata": {},
   "source": []
  },
  {
   "cell_type": "markdown",
   "id": "8ea07419-6f17-44f8-938b-59f782f089c3",
   "metadata": {},
   "source": []
  },
  {
   "cell_type": "markdown",
   "id": "423d1127-8efe-407a-95f4-3292579fa82b",
   "metadata": {},
   "source": []
  },
  {
   "cell_type": "markdown",
   "id": "d0815b39-d804-41bf-9b52-f3d0124ed1a2",
   "metadata": {},
   "source": []
  },
  {
   "cell_type": "markdown",
   "id": "955319d1-585b-4fac-bf12-66bcda92a31d",
   "metadata": {},
   "source": []
  },
  {
   "cell_type": "markdown",
   "id": "982dc4f6-ceb8-44d6-bcb0-487c4ff09751",
   "metadata": {},
   "source": []
  },
  {
   "cell_type": "markdown",
   "id": "ddfb7ba3-f1cc-43dc-8e5a-a66077ea8b08",
   "metadata": {},
   "source": []
  },
  {
   "cell_type": "markdown",
   "id": "a009e194-4f10-4c00-a8d4-07459953d184",
   "metadata": {},
   "source": []
  },
  {
   "cell_type": "markdown",
   "id": "0a3d49b4-fcbf-41ba-a10f-8eef9c936cab",
   "metadata": {},
   "source": []
  },
  {
   "cell_type": "markdown",
   "id": "574cc319-3b5b-444c-a08d-54c4c623c6a7",
   "metadata": {},
   "source": []
  },
  {
   "cell_type": "markdown",
   "id": "07c00b94-de3b-437b-a689-6760dcc4129c",
   "metadata": {},
   "source": []
  },
  {
   "cell_type": "markdown",
   "id": "b462dc47-9c5c-491a-bfb9-b77467d48d9d",
   "metadata": {},
   "source": []
  },
  {
   "cell_type": "markdown",
   "id": "f2cbca88-acde-4ab8-b84a-ca48f9b7407b",
   "metadata": {},
   "source": []
  },
  {
   "cell_type": "markdown",
   "id": "84984a6f-776f-4feb-a9e5-4cbc176d7645",
   "metadata": {},
   "source": []
  },
  {
   "cell_type": "markdown",
   "id": "8a7d58f2-d916-4015-91be-60d1c2dbaf31",
   "metadata": {},
   "source": []
  },
  {
   "cell_type": "markdown",
   "id": "4acc29da-68ba-4379-a4d5-e93f519354a0",
   "metadata": {},
   "source": []
  },
  {
   "cell_type": "markdown",
   "id": "faea7b18-266e-4ef3-9a06-1a66dc3ec833",
   "metadata": {},
   "source": []
  },
  {
   "cell_type": "markdown",
   "id": "16bf36ff-476e-4cc3-b975-505e40631795",
   "metadata": {},
   "source": []
  },
  {
   "cell_type": "markdown",
   "id": "c4c143d9-000d-495c-b80c-f704dd42e540",
   "metadata": {},
   "source": []
  },
  {
   "cell_type": "markdown",
   "id": "376ed547-ac0f-4e8d-9916-fd545253dbd8",
   "metadata": {},
   "source": []
  },
  {
   "cell_type": "markdown",
   "id": "156fcac7-c907-44f1-9013-6bdd203d81df",
   "metadata": {},
   "source": []
  },
  {
   "cell_type": "markdown",
   "id": "4080dfdc-eeb9-4572-9802-13b6292169c7",
   "metadata": {},
   "source": []
  },
  {
   "cell_type": "markdown",
   "id": "6394911d-f7ab-40cc-b37b-27823fb3a734",
   "metadata": {},
   "source": []
  },
  {
   "cell_type": "markdown",
   "id": "91b9924f-0070-4a76-a735-4f6bbb294799",
   "metadata": {},
   "source": []
  },
  {
   "cell_type": "markdown",
   "id": "ecb4d65e-94e7-45ea-a9fd-0f6bf7fd1d18",
   "metadata": {},
   "source": []
  },
  {
   "cell_type": "markdown",
   "id": "c01fcf0f-8a79-4391-abc1-b9f64ac25d1e",
   "metadata": {},
   "source": []
  },
  {
   "cell_type": "markdown",
   "id": "3b598d50-e1da-431e-a783-ce35f3d6891f",
   "metadata": {},
   "source": []
  },
  {
   "cell_type": "markdown",
   "id": "5bf4537e-4558-4317-90ea-317ae8863778",
   "metadata": {},
   "source": []
  },
  {
   "cell_type": "markdown",
   "id": "c2ae3c4b-a808-4dc2-b843-6506317b50b4",
   "metadata": {},
   "source": []
  },
  {
   "cell_type": "markdown",
   "id": "3aa0ebc8-8532-4eb2-ba69-f5f4bb45d3d7",
   "metadata": {},
   "source": []
  },
  {
   "cell_type": "markdown",
   "id": "297122c6-86ef-4ee4-8537-320633ff0ec0",
   "metadata": {},
   "source": []
  },
  {
   "cell_type": "markdown",
   "id": "72d45481-6d92-4fce-b3a4-89155ae1b83f",
   "metadata": {},
   "source": []
  },
  {
   "cell_type": "markdown",
   "id": "4df29b85-bce0-4e22-bc06-6b1874fe27eb",
   "metadata": {},
   "source": []
  },
  {
   "cell_type": "markdown",
   "id": "da04c315-cadd-4d5e-9992-e120e0ada70b",
   "metadata": {},
   "source": []
  },
  {
   "cell_type": "markdown",
   "id": "224f2db0-177f-468b-98bf-4bda066c1069",
   "metadata": {},
   "source": []
  },
  {
   "cell_type": "markdown",
   "id": "4c02bc59-621c-4c54-b988-ee555e04b8a2",
   "metadata": {},
   "source": []
  },
  {
   "cell_type": "markdown",
   "id": "23a580ab-b6fc-4fc6-a295-231b86f53970",
   "metadata": {},
   "source": []
  },
  {
   "cell_type": "markdown",
   "id": "c9f14339-ad00-4414-a1b7-17cb39f511e4",
   "metadata": {},
   "source": []
  },
  {
   "cell_type": "markdown",
   "id": "158df5db-04b9-48d8-a026-51edd0e4d817",
   "metadata": {},
   "source": []
  },
  {
   "cell_type": "markdown",
   "id": "7e26632f-33d9-410e-a774-80200521cf98",
   "metadata": {},
   "source": []
  },
  {
   "cell_type": "markdown",
   "id": "329a0523-7a27-461a-8c94-bec7ddd1d85f",
   "metadata": {},
   "source": []
  },
  {
   "cell_type": "markdown",
   "id": "0fb58bd3-d61b-4979-9433-b7325f56174f",
   "metadata": {},
   "source": []
  },
  {
   "cell_type": "markdown",
   "id": "5fc72322-75c7-44e3-8de0-01a4e90628e7",
   "metadata": {},
   "source": []
  },
  {
   "cell_type": "markdown",
   "id": "16378f9a-4686-40e6-a354-32e1c9317c57",
   "metadata": {},
   "source": []
  },
  {
   "cell_type": "markdown",
   "id": "aba9aa8c-5910-40a3-8ef9-e06745da5a1f",
   "metadata": {},
   "source": []
  },
  {
   "cell_type": "markdown",
   "id": "c177d35b-1d87-422a-a283-261d48c1ba23",
   "metadata": {},
   "source": []
  },
  {
   "cell_type": "markdown",
   "id": "1ccb24e4-046f-40a5-b560-18f25779e758",
   "metadata": {},
   "source": []
  },
  {
   "cell_type": "markdown",
   "id": "e5047692-372a-4899-ae6f-ce727c7dc7cd",
   "metadata": {},
   "source": []
  },
  {
   "cell_type": "markdown",
   "id": "ca3d0f49-2e28-4572-8988-c62d77896cef",
   "metadata": {},
   "source": []
  },
  {
   "cell_type": "markdown",
   "id": "a9e2d677-4db8-4732-b59a-e50d76a98e21",
   "metadata": {},
   "source": []
  },
  {
   "cell_type": "markdown",
   "id": "9176dffd-48d1-4c7e-9605-61d7efc6ce23",
   "metadata": {},
   "source": []
  },
  {
   "cell_type": "markdown",
   "id": "4f268427-b54f-4f15-ac09-1abdf0023e4a",
   "metadata": {},
   "source": []
  },
  {
   "cell_type": "markdown",
   "id": "e0c3b15c-456e-4921-8dfd-d8c67f786832",
   "metadata": {},
   "source": []
  },
  {
   "cell_type": "markdown",
   "id": "95bb8b47-47da-4f61-b636-6465b1f5b72c",
   "metadata": {},
   "source": []
  },
  {
   "cell_type": "markdown",
   "id": "e7d8c05b-2308-424a-b6b3-357e6f3c4cfc",
   "metadata": {},
   "source": []
  },
  {
   "cell_type": "markdown",
   "id": "2b241e49-b8f5-461f-91de-eeefe490cfea",
   "metadata": {},
   "source": []
  },
  {
   "cell_type": "markdown",
   "id": "2760bd87-bf22-4ee1-9aae-cf55eed839cf",
   "metadata": {},
   "source": []
  },
  {
   "cell_type": "markdown",
   "id": "153f3ffc-ef55-4806-8eb1-815fde75e2c6",
   "metadata": {},
   "source": []
  },
  {
   "cell_type": "markdown",
   "id": "5d0c1ec9-dde1-4e1d-95f5-acce415febef",
   "metadata": {},
   "source": []
  },
  {
   "cell_type": "markdown",
   "id": "28d611c3-f3bb-4c0d-b96a-1fafae1d7926",
   "metadata": {},
   "source": []
  },
  {
   "cell_type": "markdown",
   "id": "2127517c-d53c-46ef-9fae-12a47a25e3de",
   "metadata": {},
   "source": []
  },
  {
   "cell_type": "markdown",
   "id": "af0a9a3d-4356-4ea7-a5cc-f9f00e159d44",
   "metadata": {},
   "source": []
  },
  {
   "cell_type": "markdown",
   "id": "b59386aa-5fb1-4301-8cf2-2ac8ba6282f8",
   "metadata": {},
   "source": []
  },
  {
   "cell_type": "markdown",
   "id": "f46d570b-ef52-4fd1-8de4-22091aacf42d",
   "metadata": {},
   "source": []
  },
  {
   "cell_type": "markdown",
   "id": "c8223675-5af1-4651-b47e-557a7fe64f57",
   "metadata": {},
   "source": []
  },
  {
   "cell_type": "markdown",
   "id": "51a59f12-60a1-4366-a8a1-f95fa661e45f",
   "metadata": {},
   "source": []
  },
  {
   "cell_type": "markdown",
   "id": "5c4d2f97-91df-43e7-bb89-df30dbcc4899",
   "metadata": {},
   "source": []
  },
  {
   "cell_type": "markdown",
   "id": "d3a220e1-f8b0-40bb-9206-16df5f878655",
   "metadata": {},
   "source": []
  },
  {
   "cell_type": "markdown",
   "id": "eb1efed0-13d6-42fa-9391-736f68f49451",
   "metadata": {},
   "source": []
  },
  {
   "cell_type": "markdown",
   "id": "eb0c7cc6-bdb3-4676-85d9-302661e30bb2",
   "metadata": {},
   "source": []
  }
 ],
 "metadata": {
  "kernelspec": {
   "display_name": "venv3.12",
   "language": "python",
   "name": "venv3.12"
  },
  "language_info": {
   "codemirror_mode": {
    "name": "ipython",
    "version": 3
   },
   "file_extension": ".py",
   "mimetype": "text/x-python",
   "name": "python",
   "nbconvert_exporter": "python",
   "pygments_lexer": "ipython3",
   "version": "3.12.1"
  }
 },
 "nbformat": 4,
 "nbformat_minor": 5
}
